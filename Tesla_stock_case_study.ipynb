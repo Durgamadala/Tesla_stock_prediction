{
  "cells": [
    {
      "cell_type": "markdown",
      "metadata": {
        "id": "view-in-github",
        "colab_type": "text"
      },
      "source": [
        "<a href=\"https://colab.research.google.com/github/Durgamadala/Tesla_stock_prediction/blob/main/Tesla_stock_case_study.ipynb\" target=\"_parent\"><img src=\"https://colab.research.google.com/assets/colab-badge.svg\" alt=\"Open In Colab\"/></a>"
      ]
    },
    {
      "cell_type": "code",
      "execution_count": null,
      "metadata": {
        "id": "LrFi4IAHbaEM"
      },
      "outputs": [],
      "source": [
        "import pandas as pd\n",
        "import numpy as np"
      ]
    },
    {
      "cell_type": "code",
      "execution_count": null,
      "metadata": {
        "id": "IYeP_zQRbo5I",
        "colab": {
          "base_uri": "https://localhost:8080/",
          "height": 617
        },
        "outputId": "31abdfe9-8100-41fa-96d0-f45f8332ac60"
      },
      "outputs": [
        {
          "output_type": "execute_result",
          "data": {
            "text/plain": [
              "            Date         Open         High         Low        Close  \\\n",
              "0     2010-06-29     3.800000     5.000000    3.508000     4.778000   \n",
              "1     2010-06-30     5.158000     6.084000    4.660000     4.766000   \n",
              "2     2010-07-01     5.000000     5.184000    4.054000     4.392000   \n",
              "3     2010-07-02     4.600000     4.620000    3.742000     3.840000   \n",
              "4     2010-07-06     4.000000     4.000000    3.166000     3.222000   \n",
              "...          ...          ...          ...         ...          ...   \n",
              "2951  2022-03-18   874.489990   907.849976  867.390015   905.390015   \n",
              "2952  2022-03-21   914.979980   942.849976  907.090027   921.159973   \n",
              "2953  2022-03-22   930.000000   997.859985  921.750000   993.979980   \n",
              "2954  2022-03-23   979.940002  1040.699951  976.400024   999.109985   \n",
              "2955  2022-03-24  1009.729980  1024.489990  988.799988  1013.919983   \n",
              "\n",
              "        Adj Close    Volume  \n",
              "0        4.778000  93831500  \n",
              "1        4.766000  85935500  \n",
              "2        4.392000  41094000  \n",
              "3        3.840000  25699000  \n",
              "4        3.222000  34334500  \n",
              "...           ...       ...  \n",
              "2951   905.390015  33408500  \n",
              "2952   921.159973  27327200  \n",
              "2953   993.979980  35289500  \n",
              "2954   999.109985  40225400  \n",
              "2955  1013.919983  22901900  \n",
              "\n",
              "[2956 rows x 7 columns]"
            ],
            "text/html": [
              "\n",
              "  <div id=\"df-6f863ff3-bcc2-45f2-b399-3e26876121e4\" class=\"colab-df-container\">\n",
              "    <div>\n",
              "<style scoped>\n",
              "    .dataframe tbody tr th:only-of-type {\n",
              "        vertical-align: middle;\n",
              "    }\n",
              "\n",
              "    .dataframe tbody tr th {\n",
              "        vertical-align: top;\n",
              "    }\n",
              "\n",
              "    .dataframe thead th {\n",
              "        text-align: right;\n",
              "    }\n",
              "</style>\n",
              "<table border=\"1\" class=\"dataframe\">\n",
              "  <thead>\n",
              "    <tr style=\"text-align: right;\">\n",
              "      <th></th>\n",
              "      <th>Date</th>\n",
              "      <th>Open</th>\n",
              "      <th>High</th>\n",
              "      <th>Low</th>\n",
              "      <th>Close</th>\n",
              "      <th>Adj Close</th>\n",
              "      <th>Volume</th>\n",
              "    </tr>\n",
              "  </thead>\n",
              "  <tbody>\n",
              "    <tr>\n",
              "      <th>0</th>\n",
              "      <td>2010-06-29</td>\n",
              "      <td>3.800000</td>\n",
              "      <td>5.000000</td>\n",
              "      <td>3.508000</td>\n",
              "      <td>4.778000</td>\n",
              "      <td>4.778000</td>\n",
              "      <td>93831500</td>\n",
              "    </tr>\n",
              "    <tr>\n",
              "      <th>1</th>\n",
              "      <td>2010-06-30</td>\n",
              "      <td>5.158000</td>\n",
              "      <td>6.084000</td>\n",
              "      <td>4.660000</td>\n",
              "      <td>4.766000</td>\n",
              "      <td>4.766000</td>\n",
              "      <td>85935500</td>\n",
              "    </tr>\n",
              "    <tr>\n",
              "      <th>2</th>\n",
              "      <td>2010-07-01</td>\n",
              "      <td>5.000000</td>\n",
              "      <td>5.184000</td>\n",
              "      <td>4.054000</td>\n",
              "      <td>4.392000</td>\n",
              "      <td>4.392000</td>\n",
              "      <td>41094000</td>\n",
              "    </tr>\n",
              "    <tr>\n",
              "      <th>3</th>\n",
              "      <td>2010-07-02</td>\n",
              "      <td>4.600000</td>\n",
              "      <td>4.620000</td>\n",
              "      <td>3.742000</td>\n",
              "      <td>3.840000</td>\n",
              "      <td>3.840000</td>\n",
              "      <td>25699000</td>\n",
              "    </tr>\n",
              "    <tr>\n",
              "      <th>4</th>\n",
              "      <td>2010-07-06</td>\n",
              "      <td>4.000000</td>\n",
              "      <td>4.000000</td>\n",
              "      <td>3.166000</td>\n",
              "      <td>3.222000</td>\n",
              "      <td>3.222000</td>\n",
              "      <td>34334500</td>\n",
              "    </tr>\n",
              "    <tr>\n",
              "      <th>...</th>\n",
              "      <td>...</td>\n",
              "      <td>...</td>\n",
              "      <td>...</td>\n",
              "      <td>...</td>\n",
              "      <td>...</td>\n",
              "      <td>...</td>\n",
              "      <td>...</td>\n",
              "    </tr>\n",
              "    <tr>\n",
              "      <th>2951</th>\n",
              "      <td>2022-03-18</td>\n",
              "      <td>874.489990</td>\n",
              "      <td>907.849976</td>\n",
              "      <td>867.390015</td>\n",
              "      <td>905.390015</td>\n",
              "      <td>905.390015</td>\n",
              "      <td>33408500</td>\n",
              "    </tr>\n",
              "    <tr>\n",
              "      <th>2952</th>\n",
              "      <td>2022-03-21</td>\n",
              "      <td>914.979980</td>\n",
              "      <td>942.849976</td>\n",
              "      <td>907.090027</td>\n",
              "      <td>921.159973</td>\n",
              "      <td>921.159973</td>\n",
              "      <td>27327200</td>\n",
              "    </tr>\n",
              "    <tr>\n",
              "      <th>2953</th>\n",
              "      <td>2022-03-22</td>\n",
              "      <td>930.000000</td>\n",
              "      <td>997.859985</td>\n",
              "      <td>921.750000</td>\n",
              "      <td>993.979980</td>\n",
              "      <td>993.979980</td>\n",
              "      <td>35289500</td>\n",
              "    </tr>\n",
              "    <tr>\n",
              "      <th>2954</th>\n",
              "      <td>2022-03-23</td>\n",
              "      <td>979.940002</td>\n",
              "      <td>1040.699951</td>\n",
              "      <td>976.400024</td>\n",
              "      <td>999.109985</td>\n",
              "      <td>999.109985</td>\n",
              "      <td>40225400</td>\n",
              "    </tr>\n",
              "    <tr>\n",
              "      <th>2955</th>\n",
              "      <td>2022-03-24</td>\n",
              "      <td>1009.729980</td>\n",
              "      <td>1024.489990</td>\n",
              "      <td>988.799988</td>\n",
              "      <td>1013.919983</td>\n",
              "      <td>1013.919983</td>\n",
              "      <td>22901900</td>\n",
              "    </tr>\n",
              "  </tbody>\n",
              "</table>\n",
              "<p>2956 rows × 7 columns</p>\n",
              "</div>\n",
              "    <div class=\"colab-df-buttons\">\n",
              "\n",
              "  <div class=\"colab-df-container\">\n",
              "    <button class=\"colab-df-convert\" onclick=\"convertToInteractive('df-6f863ff3-bcc2-45f2-b399-3e26876121e4')\"\n",
              "            title=\"Convert this dataframe to an interactive table.\"\n",
              "            style=\"display:none;\">\n",
              "\n",
              "  <svg xmlns=\"http://www.w3.org/2000/svg\" height=\"24px\" viewBox=\"0 -960 960 960\">\n",
              "    <path d=\"M120-120v-720h720v720H120Zm60-500h600v-160H180v160Zm220 220h160v-160H400v160Zm0 220h160v-160H400v160ZM180-400h160v-160H180v160Zm440 0h160v-160H620v160ZM180-180h160v-160H180v160Zm440 0h160v-160H620v160Z\"/>\n",
              "  </svg>\n",
              "    </button>\n",
              "\n",
              "  <style>\n",
              "    .colab-df-container {\n",
              "      display:flex;\n",
              "      gap: 12px;\n",
              "    }\n",
              "\n",
              "    .colab-df-convert {\n",
              "      background-color: #E8F0FE;\n",
              "      border: none;\n",
              "      border-radius: 50%;\n",
              "      cursor: pointer;\n",
              "      display: none;\n",
              "      fill: #1967D2;\n",
              "      height: 32px;\n",
              "      padding: 0 0 0 0;\n",
              "      width: 32px;\n",
              "    }\n",
              "\n",
              "    .colab-df-convert:hover {\n",
              "      background-color: #E2EBFA;\n",
              "      box-shadow: 0px 1px 2px rgba(60, 64, 67, 0.3), 0px 1px 3px 1px rgba(60, 64, 67, 0.15);\n",
              "      fill: #174EA6;\n",
              "    }\n",
              "\n",
              "    .colab-df-buttons div {\n",
              "      margin-bottom: 4px;\n",
              "    }\n",
              "\n",
              "    [theme=dark] .colab-df-convert {\n",
              "      background-color: #3B4455;\n",
              "      fill: #D2E3FC;\n",
              "    }\n",
              "\n",
              "    [theme=dark] .colab-df-convert:hover {\n",
              "      background-color: #434B5C;\n",
              "      box-shadow: 0px 1px 3px 1px rgba(0, 0, 0, 0.15);\n",
              "      filter: drop-shadow(0px 1px 2px rgba(0, 0, 0, 0.3));\n",
              "      fill: #FFFFFF;\n",
              "    }\n",
              "  </style>\n",
              "\n",
              "    <script>\n",
              "      const buttonEl =\n",
              "        document.querySelector('#df-6f863ff3-bcc2-45f2-b399-3e26876121e4 button.colab-df-convert');\n",
              "      buttonEl.style.display =\n",
              "        google.colab.kernel.accessAllowed ? 'block' : 'none';\n",
              "\n",
              "      async function convertToInteractive(key) {\n",
              "        const element = document.querySelector('#df-6f863ff3-bcc2-45f2-b399-3e26876121e4');\n",
              "        const dataTable =\n",
              "          await google.colab.kernel.invokeFunction('convertToInteractive',\n",
              "                                                    [key], {});\n",
              "        if (!dataTable) return;\n",
              "\n",
              "        const docLinkHtml = 'Like what you see? Visit the ' +\n",
              "          '<a target=\"_blank\" href=https://colab.research.google.com/notebooks/data_table.ipynb>data table notebook</a>'\n",
              "          + ' to learn more about interactive tables.';\n",
              "        element.innerHTML = '';\n",
              "        dataTable['output_type'] = 'display_data';\n",
              "        await google.colab.output.renderOutput(dataTable, element);\n",
              "        const docLink = document.createElement('div');\n",
              "        docLink.innerHTML = docLinkHtml;\n",
              "        element.appendChild(docLink);\n",
              "      }\n",
              "    </script>\n",
              "  </div>\n",
              "\n",
              "\n",
              "<div id=\"df-df200df4-5aed-4a08-b237-77dc0234ba1b\">\n",
              "  <button class=\"colab-df-quickchart\" onclick=\"quickchart('df-df200df4-5aed-4a08-b237-77dc0234ba1b')\"\n",
              "            title=\"Suggest charts\"\n",
              "            style=\"display:none;\">\n",
              "\n",
              "<svg xmlns=\"http://www.w3.org/2000/svg\" height=\"24px\"viewBox=\"0 0 24 24\"\n",
              "     width=\"24px\">\n",
              "    <g>\n",
              "        <path d=\"M19 3H5c-1.1 0-2 .9-2 2v14c0 1.1.9 2 2 2h14c1.1 0 2-.9 2-2V5c0-1.1-.9-2-2-2zM9 17H7v-7h2v7zm4 0h-2V7h2v10zm4 0h-2v-4h2v4z\"/>\n",
              "    </g>\n",
              "</svg>\n",
              "  </button>\n",
              "\n",
              "<style>\n",
              "  .colab-df-quickchart {\n",
              "      --bg-color: #E8F0FE;\n",
              "      --fill-color: #1967D2;\n",
              "      --hover-bg-color: #E2EBFA;\n",
              "      --hover-fill-color: #174EA6;\n",
              "      --disabled-fill-color: #AAA;\n",
              "      --disabled-bg-color: #DDD;\n",
              "  }\n",
              "\n",
              "  [theme=dark] .colab-df-quickchart {\n",
              "      --bg-color: #3B4455;\n",
              "      --fill-color: #D2E3FC;\n",
              "      --hover-bg-color: #434B5C;\n",
              "      --hover-fill-color: #FFFFFF;\n",
              "      --disabled-bg-color: #3B4455;\n",
              "      --disabled-fill-color: #666;\n",
              "  }\n",
              "\n",
              "  .colab-df-quickchart {\n",
              "    background-color: var(--bg-color);\n",
              "    border: none;\n",
              "    border-radius: 50%;\n",
              "    cursor: pointer;\n",
              "    display: none;\n",
              "    fill: var(--fill-color);\n",
              "    height: 32px;\n",
              "    padding: 0;\n",
              "    width: 32px;\n",
              "  }\n",
              "\n",
              "  .colab-df-quickchart:hover {\n",
              "    background-color: var(--hover-bg-color);\n",
              "    box-shadow: 0 1px 2px rgba(60, 64, 67, 0.3), 0 1px 3px 1px rgba(60, 64, 67, 0.15);\n",
              "    fill: var(--button-hover-fill-color);\n",
              "  }\n",
              "\n",
              "  .colab-df-quickchart-complete:disabled,\n",
              "  .colab-df-quickchart-complete:disabled:hover {\n",
              "    background-color: var(--disabled-bg-color);\n",
              "    fill: var(--disabled-fill-color);\n",
              "    box-shadow: none;\n",
              "  }\n",
              "\n",
              "  .colab-df-spinner {\n",
              "    border: 2px solid var(--fill-color);\n",
              "    border-color: transparent;\n",
              "    border-bottom-color: var(--fill-color);\n",
              "    animation:\n",
              "      spin 1s steps(1) infinite;\n",
              "  }\n",
              "\n",
              "  @keyframes spin {\n",
              "    0% {\n",
              "      border-color: transparent;\n",
              "      border-bottom-color: var(--fill-color);\n",
              "      border-left-color: var(--fill-color);\n",
              "    }\n",
              "    20% {\n",
              "      border-color: transparent;\n",
              "      border-left-color: var(--fill-color);\n",
              "      border-top-color: var(--fill-color);\n",
              "    }\n",
              "    30% {\n",
              "      border-color: transparent;\n",
              "      border-left-color: var(--fill-color);\n",
              "      border-top-color: var(--fill-color);\n",
              "      border-right-color: var(--fill-color);\n",
              "    }\n",
              "    40% {\n",
              "      border-color: transparent;\n",
              "      border-right-color: var(--fill-color);\n",
              "      border-top-color: var(--fill-color);\n",
              "    }\n",
              "    60% {\n",
              "      border-color: transparent;\n",
              "      border-right-color: var(--fill-color);\n",
              "    }\n",
              "    80% {\n",
              "      border-color: transparent;\n",
              "      border-right-color: var(--fill-color);\n",
              "      border-bottom-color: var(--fill-color);\n",
              "    }\n",
              "    90% {\n",
              "      border-color: transparent;\n",
              "      border-bottom-color: var(--fill-color);\n",
              "    }\n",
              "  }\n",
              "</style>\n",
              "\n",
              "  <script>\n",
              "    async function quickchart(key) {\n",
              "      const quickchartButtonEl =\n",
              "        document.querySelector('#' + key + ' button');\n",
              "      quickchartButtonEl.disabled = true;  // To prevent multiple clicks.\n",
              "      quickchartButtonEl.classList.add('colab-df-spinner');\n",
              "      try {\n",
              "        const charts = await google.colab.kernel.invokeFunction(\n",
              "            'suggestCharts', [key], {});\n",
              "      } catch (error) {\n",
              "        console.error('Error during call to suggestCharts:', error);\n",
              "      }\n",
              "      quickchartButtonEl.classList.remove('colab-df-spinner');\n",
              "      quickchartButtonEl.classList.add('colab-df-quickchart-complete');\n",
              "    }\n",
              "    (() => {\n",
              "      let quickchartButtonEl =\n",
              "        document.querySelector('#df-df200df4-5aed-4a08-b237-77dc0234ba1b button');\n",
              "      quickchartButtonEl.style.display =\n",
              "        google.colab.kernel.accessAllowed ? 'block' : 'none';\n",
              "    })();\n",
              "  </script>\n",
              "</div>\n",
              "\n",
              "  <div id=\"id_f9d80949-4714-4a85-880c-e4ad6dca4336\">\n",
              "    <style>\n",
              "      .colab-df-generate {\n",
              "        background-color: #E8F0FE;\n",
              "        border: none;\n",
              "        border-radius: 50%;\n",
              "        cursor: pointer;\n",
              "        display: none;\n",
              "        fill: #1967D2;\n",
              "        height: 32px;\n",
              "        padding: 0 0 0 0;\n",
              "        width: 32px;\n",
              "      }\n",
              "\n",
              "      .colab-df-generate:hover {\n",
              "        background-color: #E2EBFA;\n",
              "        box-shadow: 0px 1px 2px rgba(60, 64, 67, 0.3), 0px 1px 3px 1px rgba(60, 64, 67, 0.15);\n",
              "        fill: #174EA6;\n",
              "      }\n",
              "\n",
              "      [theme=dark] .colab-df-generate {\n",
              "        background-color: #3B4455;\n",
              "        fill: #D2E3FC;\n",
              "      }\n",
              "\n",
              "      [theme=dark] .colab-df-generate:hover {\n",
              "        background-color: #434B5C;\n",
              "        box-shadow: 0px 1px 3px 1px rgba(0, 0, 0, 0.15);\n",
              "        filter: drop-shadow(0px 1px 2px rgba(0, 0, 0, 0.3));\n",
              "        fill: #FFFFFF;\n",
              "      }\n",
              "    </style>\n",
              "    <button class=\"colab-df-generate\" onclick=\"generateWithVariable('df')\"\n",
              "            title=\"Generate code using this dataframe.\"\n",
              "            style=\"display:none;\">\n",
              "\n",
              "  <svg xmlns=\"http://www.w3.org/2000/svg\" height=\"24px\"viewBox=\"0 0 24 24\"\n",
              "       width=\"24px\">\n",
              "    <path d=\"M7,19H8.4L18.45,9,17,7.55,7,17.6ZM5,21V16.75L18.45,3.32a2,2,0,0,1,2.83,0l1.4,1.43a1.91,1.91,0,0,1,.58,1.4,1.91,1.91,0,0,1-.58,1.4L9.25,21ZM18.45,9,17,7.55Zm-12,3A5.31,5.31,0,0,0,4.9,8.1,5.31,5.31,0,0,0,1,6.5,5.31,5.31,0,0,0,4.9,4.9,5.31,5.31,0,0,0,6.5,1,5.31,5.31,0,0,0,8.1,4.9,5.31,5.31,0,0,0,12,6.5,5.46,5.46,0,0,0,6.5,12Z\"/>\n",
              "  </svg>\n",
              "    </button>\n",
              "    <script>\n",
              "      (() => {\n",
              "      const buttonEl =\n",
              "        document.querySelector('#id_f9d80949-4714-4a85-880c-e4ad6dca4336 button.colab-df-generate');\n",
              "      buttonEl.style.display =\n",
              "        google.colab.kernel.accessAllowed ? 'block' : 'none';\n",
              "\n",
              "      buttonEl.onclick = () => {\n",
              "        google.colab.notebook.generateWithVariable('df');\n",
              "      }\n",
              "      })();\n",
              "    </script>\n",
              "  </div>\n",
              "\n",
              "    </div>\n",
              "  </div>\n"
            ],
            "application/vnd.google.colaboratory.intrinsic+json": {
              "type": "dataframe",
              "variable_name": "df",
              "summary": "{\n  \"name\": \"df\",\n  \"rows\": 2956,\n  \"fields\": [\n    {\n      \"column\": \"Date\",\n      \"properties\": {\n        \"dtype\": \"object\",\n        \"num_unique_values\": 2956,\n        \"samples\": [\n          \"2018-04-06\",\n          \"2019-08-30\",\n          \"2014-03-11\"\n        ],\n        \"semantic_type\": \"\",\n        \"description\": \"\"\n      }\n    },\n    {\n      \"column\": \"Open\",\n      \"properties\": {\n        \"dtype\": \"number\",\n        \"std\": 250.04483904552464,\n        \"min\": 3.228,\n        \"max\": 1234.410034,\n        \"num_unique_values\": 2666,\n        \"samples\": [\n          67.054001,\n          58.897999,\n          6.616\n        ],\n        \"semantic_type\": \"\",\n        \"description\": \"\"\n      }\n    },\n    {\n      \"column\": \"High\",\n      \"properties\": {\n        \"dtype\": \"number\",\n        \"std\": 255.8632387561714,\n        \"min\": 3.326,\n        \"max\": 1243.48999,\n        \"num_unique_values\": 2662,\n        \"samples\": [\n          51.321999,\n          4.718,\n          52.189999\n        ],\n        \"semantic_type\": \"\",\n        \"description\": \"\"\n      }\n    },\n    {\n      \"column\": \"Low\",\n      \"properties\": {\n        \"dtype\": \"number\",\n        \"std\": 243.77415650647208,\n        \"min\": 2.996,\n        \"max\": 1217.0,\n        \"num_unique_values\": 2672,\n        \"samples\": [\n          94.739998,\n          42.153999,\n          49.063999\n        ],\n        \"semantic_type\": \"\",\n        \"description\": \"\"\n      }\n    },\n    {\n      \"column\": \"Close\",\n      \"properties\": {\n        \"dtype\": \"number\",\n        \"std\": 250.12311461549035,\n        \"min\": 3.16,\n        \"max\": 1229.910034,\n        \"num_unique_values\": 2764,\n        \"samples\": [\n          62.442001,\n          43.549999,\n          45.122002\n        ],\n        \"semantic_type\": \"\",\n        \"description\": \"\"\n      }\n    },\n    {\n      \"column\": \"Adj Close\",\n      \"properties\": {\n        \"dtype\": \"number\",\n        \"std\": 250.12311461549035,\n        \"min\": 3.16,\n        \"max\": 1229.910034,\n        \"num_unique_values\": 2764,\n        \"samples\": [\n          62.442001,\n          43.549999,\n          45.122002\n        ],\n        \"semantic_type\": \"\",\n        \"description\": \"\"\n      }\n    },\n    {\n      \"column\": \"Volume\",\n      \"properties\": {\n        \"dtype\": \"number\",\n        \"std\": 27983828,\n        \"min\": 592500,\n        \"max\": 304694000,\n        \"num_unique_values\": 2925,\n        \"samples\": [\n          16623000,\n          123446000,\n          17212500\n        ],\n        \"semantic_type\": \"\",\n        \"description\": \"\"\n      }\n    }\n  ]\n}"
            }
          },
          "metadata": {},
          "execution_count": 2
        }
      ],
      "source": [
        "df = pd.read_csv('/content/TSLA.csv')\n",
        "df"
      ]
    },
    {
      "cell_type": "code",
      "execution_count": null,
      "metadata": {
        "id": "4eva9OkKbwpZ",
        "colab": {
          "base_uri": "https://localhost:8080/"
        },
        "outputId": "d4662a08-46c6-4478-c57d-5227d0518174"
      },
      "outputs": [
        {
          "output_type": "execute_result",
          "data": {
            "text/plain": [
              "(2956, 7)"
            ]
          },
          "metadata": {},
          "execution_count": 3
        }
      ],
      "source": [
        "df.shape\n"
      ]
    },
    {
      "cell_type": "code",
      "execution_count": null,
      "metadata": {
        "id": "wExdxI0Db-Cw",
        "colab": {
          "base_uri": "https://localhost:8080/"
        },
        "outputId": "cac1af30-7805-4d28-b876-aba7af5fedd7"
      },
      "outputs": [
        {
          "output_type": "stream",
          "name": "stdout",
          "text": [
            "<class 'pandas.core.frame.DataFrame'>\n",
            "RangeIndex: 2956 entries, 0 to 2955\n",
            "Data columns (total 7 columns):\n",
            " #   Column     Non-Null Count  Dtype  \n",
            "---  ------     --------------  -----  \n",
            " 0   Date       2956 non-null   object \n",
            " 1   Open       2956 non-null   float64\n",
            " 2   High       2956 non-null   float64\n",
            " 3   Low        2956 non-null   float64\n",
            " 4   Close      2956 non-null   float64\n",
            " 5   Adj Close  2956 non-null   float64\n",
            " 6   Volume     2956 non-null   int64  \n",
            "dtypes: float64(5), int64(1), object(1)\n",
            "memory usage: 161.8+ KB\n"
          ]
        }
      ],
      "source": [
        "df.info()"
      ]
    },
    {
      "cell_type": "code",
      "execution_count": null,
      "metadata": {
        "id": "wGk5FYdScAyS",
        "colab": {
          "base_uri": "https://localhost:8080/",
          "height": 320
        },
        "outputId": "f2c07237-d27c-45d0-ff37-f5a6b15890ac"
      },
      "outputs": [
        {
          "output_type": "execute_result",
          "data": {
            "text/plain": [
              "              Open         High          Low        Close    Adj Close  \\\n",
              "count  2956.000000  2956.000000  2956.000000  2956.000000  2956.000000   \n",
              "mean    138.691296   141.771603   135.425953   138.762183   138.762183   \n",
              "std     250.044839   255.863239   243.774157   250.123115   250.123115   \n",
              "min       3.228000     3.326000     2.996000     3.160000     3.160000   \n",
              "25%      19.627000    20.402000    19.127500    19.615000    19.615000   \n",
              "50%      46.656999    47.487001    45.820002    46.545000    46.545000   \n",
              "75%      68.057001    69.357500    66.911501    68.103998    68.103998   \n",
              "max    1234.410034  1243.489990  1217.000000  1229.910034  1229.910034   \n",
              "\n",
              "             Volume  \n",
              "count  2.956000e+03  \n",
              "mean   3.131449e+07  \n",
              "std    2.798383e+07  \n",
              "min    5.925000e+05  \n",
              "25%    1.310288e+07  \n",
              "50%    2.488680e+07  \n",
              "75%    3.973875e+07  \n",
              "max    3.046940e+08  "
            ],
            "text/html": [
              "\n",
              "  <div id=\"df-efbc27fa-7a76-41e1-92fd-6e1663b7a885\" class=\"colab-df-container\">\n",
              "    <div>\n",
              "<style scoped>\n",
              "    .dataframe tbody tr th:only-of-type {\n",
              "        vertical-align: middle;\n",
              "    }\n",
              "\n",
              "    .dataframe tbody tr th {\n",
              "        vertical-align: top;\n",
              "    }\n",
              "\n",
              "    .dataframe thead th {\n",
              "        text-align: right;\n",
              "    }\n",
              "</style>\n",
              "<table border=\"1\" class=\"dataframe\">\n",
              "  <thead>\n",
              "    <tr style=\"text-align: right;\">\n",
              "      <th></th>\n",
              "      <th>Open</th>\n",
              "      <th>High</th>\n",
              "      <th>Low</th>\n",
              "      <th>Close</th>\n",
              "      <th>Adj Close</th>\n",
              "      <th>Volume</th>\n",
              "    </tr>\n",
              "  </thead>\n",
              "  <tbody>\n",
              "    <tr>\n",
              "      <th>count</th>\n",
              "      <td>2956.000000</td>\n",
              "      <td>2956.000000</td>\n",
              "      <td>2956.000000</td>\n",
              "      <td>2956.000000</td>\n",
              "      <td>2956.000000</td>\n",
              "      <td>2.956000e+03</td>\n",
              "    </tr>\n",
              "    <tr>\n",
              "      <th>mean</th>\n",
              "      <td>138.691296</td>\n",
              "      <td>141.771603</td>\n",
              "      <td>135.425953</td>\n",
              "      <td>138.762183</td>\n",
              "      <td>138.762183</td>\n",
              "      <td>3.131449e+07</td>\n",
              "    </tr>\n",
              "    <tr>\n",
              "      <th>std</th>\n",
              "      <td>250.044839</td>\n",
              "      <td>255.863239</td>\n",
              "      <td>243.774157</td>\n",
              "      <td>250.123115</td>\n",
              "      <td>250.123115</td>\n",
              "      <td>2.798383e+07</td>\n",
              "    </tr>\n",
              "    <tr>\n",
              "      <th>min</th>\n",
              "      <td>3.228000</td>\n",
              "      <td>3.326000</td>\n",
              "      <td>2.996000</td>\n",
              "      <td>3.160000</td>\n",
              "      <td>3.160000</td>\n",
              "      <td>5.925000e+05</td>\n",
              "    </tr>\n",
              "    <tr>\n",
              "      <th>25%</th>\n",
              "      <td>19.627000</td>\n",
              "      <td>20.402000</td>\n",
              "      <td>19.127500</td>\n",
              "      <td>19.615000</td>\n",
              "      <td>19.615000</td>\n",
              "      <td>1.310288e+07</td>\n",
              "    </tr>\n",
              "    <tr>\n",
              "      <th>50%</th>\n",
              "      <td>46.656999</td>\n",
              "      <td>47.487001</td>\n",
              "      <td>45.820002</td>\n",
              "      <td>46.545000</td>\n",
              "      <td>46.545000</td>\n",
              "      <td>2.488680e+07</td>\n",
              "    </tr>\n",
              "    <tr>\n",
              "      <th>75%</th>\n",
              "      <td>68.057001</td>\n",
              "      <td>69.357500</td>\n",
              "      <td>66.911501</td>\n",
              "      <td>68.103998</td>\n",
              "      <td>68.103998</td>\n",
              "      <td>3.973875e+07</td>\n",
              "    </tr>\n",
              "    <tr>\n",
              "      <th>max</th>\n",
              "      <td>1234.410034</td>\n",
              "      <td>1243.489990</td>\n",
              "      <td>1217.000000</td>\n",
              "      <td>1229.910034</td>\n",
              "      <td>1229.910034</td>\n",
              "      <td>3.046940e+08</td>\n",
              "    </tr>\n",
              "  </tbody>\n",
              "</table>\n",
              "</div>\n",
              "    <div class=\"colab-df-buttons\">\n",
              "\n",
              "  <div class=\"colab-df-container\">\n",
              "    <button class=\"colab-df-convert\" onclick=\"convertToInteractive('df-efbc27fa-7a76-41e1-92fd-6e1663b7a885')\"\n",
              "            title=\"Convert this dataframe to an interactive table.\"\n",
              "            style=\"display:none;\">\n",
              "\n",
              "  <svg xmlns=\"http://www.w3.org/2000/svg\" height=\"24px\" viewBox=\"0 -960 960 960\">\n",
              "    <path d=\"M120-120v-720h720v720H120Zm60-500h600v-160H180v160Zm220 220h160v-160H400v160Zm0 220h160v-160H400v160ZM180-400h160v-160H180v160Zm440 0h160v-160H620v160ZM180-180h160v-160H180v160Zm440 0h160v-160H620v160Z\"/>\n",
              "  </svg>\n",
              "    </button>\n",
              "\n",
              "  <style>\n",
              "    .colab-df-container {\n",
              "      display:flex;\n",
              "      gap: 12px;\n",
              "    }\n",
              "\n",
              "    .colab-df-convert {\n",
              "      background-color: #E8F0FE;\n",
              "      border: none;\n",
              "      border-radius: 50%;\n",
              "      cursor: pointer;\n",
              "      display: none;\n",
              "      fill: #1967D2;\n",
              "      height: 32px;\n",
              "      padding: 0 0 0 0;\n",
              "      width: 32px;\n",
              "    }\n",
              "\n",
              "    .colab-df-convert:hover {\n",
              "      background-color: #E2EBFA;\n",
              "      box-shadow: 0px 1px 2px rgba(60, 64, 67, 0.3), 0px 1px 3px 1px rgba(60, 64, 67, 0.15);\n",
              "      fill: #174EA6;\n",
              "    }\n",
              "\n",
              "    .colab-df-buttons div {\n",
              "      margin-bottom: 4px;\n",
              "    }\n",
              "\n",
              "    [theme=dark] .colab-df-convert {\n",
              "      background-color: #3B4455;\n",
              "      fill: #D2E3FC;\n",
              "    }\n",
              "\n",
              "    [theme=dark] .colab-df-convert:hover {\n",
              "      background-color: #434B5C;\n",
              "      box-shadow: 0px 1px 3px 1px rgba(0, 0, 0, 0.15);\n",
              "      filter: drop-shadow(0px 1px 2px rgba(0, 0, 0, 0.3));\n",
              "      fill: #FFFFFF;\n",
              "    }\n",
              "  </style>\n",
              "\n",
              "    <script>\n",
              "      const buttonEl =\n",
              "        document.querySelector('#df-efbc27fa-7a76-41e1-92fd-6e1663b7a885 button.colab-df-convert');\n",
              "      buttonEl.style.display =\n",
              "        google.colab.kernel.accessAllowed ? 'block' : 'none';\n",
              "\n",
              "      async function convertToInteractive(key) {\n",
              "        const element = document.querySelector('#df-efbc27fa-7a76-41e1-92fd-6e1663b7a885');\n",
              "        const dataTable =\n",
              "          await google.colab.kernel.invokeFunction('convertToInteractive',\n",
              "                                                    [key], {});\n",
              "        if (!dataTable) return;\n",
              "\n",
              "        const docLinkHtml = 'Like what you see? Visit the ' +\n",
              "          '<a target=\"_blank\" href=https://colab.research.google.com/notebooks/data_table.ipynb>data table notebook</a>'\n",
              "          + ' to learn more about interactive tables.';\n",
              "        element.innerHTML = '';\n",
              "        dataTable['output_type'] = 'display_data';\n",
              "        await google.colab.output.renderOutput(dataTable, element);\n",
              "        const docLink = document.createElement('div');\n",
              "        docLink.innerHTML = docLinkHtml;\n",
              "        element.appendChild(docLink);\n",
              "      }\n",
              "    </script>\n",
              "  </div>\n",
              "\n",
              "\n",
              "<div id=\"df-0f1d7f84-845a-4586-8a2e-98ab972793f8\">\n",
              "  <button class=\"colab-df-quickchart\" onclick=\"quickchart('df-0f1d7f84-845a-4586-8a2e-98ab972793f8')\"\n",
              "            title=\"Suggest charts\"\n",
              "            style=\"display:none;\">\n",
              "\n",
              "<svg xmlns=\"http://www.w3.org/2000/svg\" height=\"24px\"viewBox=\"0 0 24 24\"\n",
              "     width=\"24px\">\n",
              "    <g>\n",
              "        <path d=\"M19 3H5c-1.1 0-2 .9-2 2v14c0 1.1.9 2 2 2h14c1.1 0 2-.9 2-2V5c0-1.1-.9-2-2-2zM9 17H7v-7h2v7zm4 0h-2V7h2v10zm4 0h-2v-4h2v4z\"/>\n",
              "    </g>\n",
              "</svg>\n",
              "  </button>\n",
              "\n",
              "<style>\n",
              "  .colab-df-quickchart {\n",
              "      --bg-color: #E8F0FE;\n",
              "      --fill-color: #1967D2;\n",
              "      --hover-bg-color: #E2EBFA;\n",
              "      --hover-fill-color: #174EA6;\n",
              "      --disabled-fill-color: #AAA;\n",
              "      --disabled-bg-color: #DDD;\n",
              "  }\n",
              "\n",
              "  [theme=dark] .colab-df-quickchart {\n",
              "      --bg-color: #3B4455;\n",
              "      --fill-color: #D2E3FC;\n",
              "      --hover-bg-color: #434B5C;\n",
              "      --hover-fill-color: #FFFFFF;\n",
              "      --disabled-bg-color: #3B4455;\n",
              "      --disabled-fill-color: #666;\n",
              "  }\n",
              "\n",
              "  .colab-df-quickchart {\n",
              "    background-color: var(--bg-color);\n",
              "    border: none;\n",
              "    border-radius: 50%;\n",
              "    cursor: pointer;\n",
              "    display: none;\n",
              "    fill: var(--fill-color);\n",
              "    height: 32px;\n",
              "    padding: 0;\n",
              "    width: 32px;\n",
              "  }\n",
              "\n",
              "  .colab-df-quickchart:hover {\n",
              "    background-color: var(--hover-bg-color);\n",
              "    box-shadow: 0 1px 2px rgba(60, 64, 67, 0.3), 0 1px 3px 1px rgba(60, 64, 67, 0.15);\n",
              "    fill: var(--button-hover-fill-color);\n",
              "  }\n",
              "\n",
              "  .colab-df-quickchart-complete:disabled,\n",
              "  .colab-df-quickchart-complete:disabled:hover {\n",
              "    background-color: var(--disabled-bg-color);\n",
              "    fill: var(--disabled-fill-color);\n",
              "    box-shadow: none;\n",
              "  }\n",
              "\n",
              "  .colab-df-spinner {\n",
              "    border: 2px solid var(--fill-color);\n",
              "    border-color: transparent;\n",
              "    border-bottom-color: var(--fill-color);\n",
              "    animation:\n",
              "      spin 1s steps(1) infinite;\n",
              "  }\n",
              "\n",
              "  @keyframes spin {\n",
              "    0% {\n",
              "      border-color: transparent;\n",
              "      border-bottom-color: var(--fill-color);\n",
              "      border-left-color: var(--fill-color);\n",
              "    }\n",
              "    20% {\n",
              "      border-color: transparent;\n",
              "      border-left-color: var(--fill-color);\n",
              "      border-top-color: var(--fill-color);\n",
              "    }\n",
              "    30% {\n",
              "      border-color: transparent;\n",
              "      border-left-color: var(--fill-color);\n",
              "      border-top-color: var(--fill-color);\n",
              "      border-right-color: var(--fill-color);\n",
              "    }\n",
              "    40% {\n",
              "      border-color: transparent;\n",
              "      border-right-color: var(--fill-color);\n",
              "      border-top-color: var(--fill-color);\n",
              "    }\n",
              "    60% {\n",
              "      border-color: transparent;\n",
              "      border-right-color: var(--fill-color);\n",
              "    }\n",
              "    80% {\n",
              "      border-color: transparent;\n",
              "      border-right-color: var(--fill-color);\n",
              "      border-bottom-color: var(--fill-color);\n",
              "    }\n",
              "    90% {\n",
              "      border-color: transparent;\n",
              "      border-bottom-color: var(--fill-color);\n",
              "    }\n",
              "  }\n",
              "</style>\n",
              "\n",
              "  <script>\n",
              "    async function quickchart(key) {\n",
              "      const quickchartButtonEl =\n",
              "        document.querySelector('#' + key + ' button');\n",
              "      quickchartButtonEl.disabled = true;  // To prevent multiple clicks.\n",
              "      quickchartButtonEl.classList.add('colab-df-spinner');\n",
              "      try {\n",
              "        const charts = await google.colab.kernel.invokeFunction(\n",
              "            'suggestCharts', [key], {});\n",
              "      } catch (error) {\n",
              "        console.error('Error during call to suggestCharts:', error);\n",
              "      }\n",
              "      quickchartButtonEl.classList.remove('colab-df-spinner');\n",
              "      quickchartButtonEl.classList.add('colab-df-quickchart-complete');\n",
              "    }\n",
              "    (() => {\n",
              "      let quickchartButtonEl =\n",
              "        document.querySelector('#df-0f1d7f84-845a-4586-8a2e-98ab972793f8 button');\n",
              "      quickchartButtonEl.style.display =\n",
              "        google.colab.kernel.accessAllowed ? 'block' : 'none';\n",
              "    })();\n",
              "  </script>\n",
              "</div>\n",
              "\n",
              "    </div>\n",
              "  </div>\n"
            ],
            "application/vnd.google.colaboratory.intrinsic+json": {
              "type": "dataframe",
              "summary": "{\n  \"name\": \"df\",\n  \"rows\": 8,\n  \"fields\": [\n    {\n      \"column\": \"Open\",\n      \"properties\": {\n        \"dtype\": \"number\",\n        \"std\": 1039.899778809062,\n        \"min\": 3.228,\n        \"max\": 2956.0,\n        \"num_unique_values\": 8,\n        \"samples\": [\n          138.6912964451962,\n          46.6569995,\n          2956.0\n        ],\n        \"semantic_type\": \"\",\n        \"description\": \"\"\n      }\n    },\n    {\n      \"column\": \"High\",\n      \"properties\": {\n        \"dtype\": \"number\",\n        \"std\": 1040.0233045922182,\n        \"min\": 3.326,\n        \"max\": 2956.0,\n        \"num_unique_values\": 8,\n        \"samples\": [\n          141.77160265290934,\n          47.4870015,\n          2956.0\n        ],\n        \"semantic_type\": \"\",\n        \"description\": \"\"\n      }\n    },\n    {\n      \"column\": \"Low\",\n      \"properties\": {\n        \"dtype\": \"number\",\n        \"std\": 1039.0711363169319,\n        \"min\": 2.996,\n        \"max\": 2956.0,\n        \"num_unique_values\": 8,\n        \"samples\": [\n          135.42595273815968,\n          45.820001500000004,\n          2956.0\n        ],\n        \"semantic_type\": \"\",\n        \"description\": \"\"\n      }\n    },\n    {\n      \"column\": \"Close\",\n      \"properties\": {\n        \"dtype\": \"number\",\n        \"std\": 1039.5056625212876,\n        \"min\": 3.16,\n        \"max\": 2956.0,\n        \"num_unique_values\": 8,\n        \"samples\": [\n          138.7621830964141,\n          46.545,\n          2956.0\n        ],\n        \"semantic_type\": \"\",\n        \"description\": \"\"\n      }\n    },\n    {\n      \"column\": \"Adj Close\",\n      \"properties\": {\n        \"dtype\": \"number\",\n        \"std\": 1039.5056625212876,\n        \"min\": 3.16,\n        \"max\": 2956.0,\n        \"num_unique_values\": 8,\n        \"samples\": [\n          138.7621830964141,\n          46.545,\n          2956.0\n        ],\n        \"semantic_type\": \"\",\n        \"description\": \"\"\n      }\n    },\n    {\n      \"column\": \"Volume\",\n      \"properties\": {\n        \"dtype\": \"number\",\n        \"std\": 101782141.7749169,\n        \"min\": 2956.0,\n        \"max\": 304694000.0,\n        \"num_unique_values\": 8,\n        \"samples\": [\n          31314485.723951284,\n          24886800.0,\n          2956.0\n        ],\n        \"semantic_type\": \"\",\n        \"description\": \"\"\n      }\n    }\n  ]\n}"
            }
          },
          "metadata": {},
          "execution_count": 5
        }
      ],
      "source": [
        "df.describe()"
      ]
    },
    {
      "cell_type": "code",
      "execution_count": null,
      "metadata": {
        "id": "FcMsm4KkcLSr",
        "colab": {
          "base_uri": "https://localhost:8080/"
        },
        "outputId": "8563060a-9ce0-42dd-daf6-25989dc5a9f7"
      },
      "outputs": [
        {
          "output_type": "execute_result",
          "data": {
            "text/plain": [
              "Index(['Date', 'Open', 'High', 'Low', 'Close', 'Adj Close', 'Volume'], dtype='object')"
            ]
          },
          "metadata": {},
          "execution_count": 6
        }
      ],
      "source": [
        "df.columns"
      ]
    },
    {
      "cell_type": "code",
      "execution_count": null,
      "metadata": {
        "id": "xONdbll7cRVv",
        "colab": {
          "base_uri": "https://localhost:8080/"
        },
        "outputId": "330f9ca2-a73a-470c-ce56-1563436fe74a"
      },
      "outputs": [
        {
          "output_type": "stream",
          "name": "stdout",
          "text": [
            "Date         0\n",
            "Open         0\n",
            "High         0\n",
            "Low          0\n",
            "Close        0\n",
            "Adj Close    0\n",
            "Volume       0\n",
            "dtype: int64\n"
          ]
        }
      ],
      "source": [
        "print(df.isnull().sum())"
      ]
    },
    {
      "cell_type": "code",
      "execution_count": null,
      "metadata": {
        "id": "sPmtdRktdAP5",
        "colab": {
          "base_uri": "https://localhost:8080/",
          "height": 489
        },
        "outputId": "3231659e-0f8c-46b1-893e-bda19bf4ad41"
      },
      "outputs": [
        {
          "output_type": "execute_result",
          "data": {
            "text/plain": [
              "Volume\n",
              "11113000    2\n",
              "45307500    2\n",
              "46272500    2\n",
              "43728000    2\n",
              "3307500     2\n",
              "           ..\n",
              "34701000    1\n",
              "43965500    1\n",
              "24519500    1\n",
              "38955500    1\n",
              "22901900    1\n",
              "Name: count, Length: 2925, dtype: int64"
            ],
            "text/html": [
              "<div>\n",
              "<style scoped>\n",
              "    .dataframe tbody tr th:only-of-type {\n",
              "        vertical-align: middle;\n",
              "    }\n",
              "\n",
              "    .dataframe tbody tr th {\n",
              "        vertical-align: top;\n",
              "    }\n",
              "\n",
              "    .dataframe thead th {\n",
              "        text-align: right;\n",
              "    }\n",
              "</style>\n",
              "<table border=\"1\" class=\"dataframe\">\n",
              "  <thead>\n",
              "    <tr style=\"text-align: right;\">\n",
              "      <th></th>\n",
              "      <th>count</th>\n",
              "    </tr>\n",
              "    <tr>\n",
              "      <th>Volume</th>\n",
              "      <th></th>\n",
              "    </tr>\n",
              "  </thead>\n",
              "  <tbody>\n",
              "    <tr>\n",
              "      <th>11113000</th>\n",
              "      <td>2</td>\n",
              "    </tr>\n",
              "    <tr>\n",
              "      <th>45307500</th>\n",
              "      <td>2</td>\n",
              "    </tr>\n",
              "    <tr>\n",
              "      <th>46272500</th>\n",
              "      <td>2</td>\n",
              "    </tr>\n",
              "    <tr>\n",
              "      <th>43728000</th>\n",
              "      <td>2</td>\n",
              "    </tr>\n",
              "    <tr>\n",
              "      <th>3307500</th>\n",
              "      <td>2</td>\n",
              "    </tr>\n",
              "    <tr>\n",
              "      <th>...</th>\n",
              "      <td>...</td>\n",
              "    </tr>\n",
              "    <tr>\n",
              "      <th>34701000</th>\n",
              "      <td>1</td>\n",
              "    </tr>\n",
              "    <tr>\n",
              "      <th>43965500</th>\n",
              "      <td>1</td>\n",
              "    </tr>\n",
              "    <tr>\n",
              "      <th>24519500</th>\n",
              "      <td>1</td>\n",
              "    </tr>\n",
              "    <tr>\n",
              "      <th>38955500</th>\n",
              "      <td>1</td>\n",
              "    </tr>\n",
              "    <tr>\n",
              "      <th>22901900</th>\n",
              "      <td>1</td>\n",
              "    </tr>\n",
              "  </tbody>\n",
              "</table>\n",
              "<p>2925 rows × 1 columns</p>\n",
              "</div><br><label><b>dtype:</b> int64</label>"
            ]
          },
          "metadata": {},
          "execution_count": 8
        }
      ],
      "source": [
        "df['Volume'].value_counts()"
      ]
    },
    {
      "cell_type": "code",
      "execution_count": null,
      "metadata": {
        "id": "9bqv57gaemc0",
        "colab": {
          "base_uri": "https://localhost:8080/",
          "height": 542
        },
        "outputId": "1c89688f-3049-41a2-afd4-1668d280ac65"
      },
      "outputs": [
        {
          "output_type": "display_data",
          "data": {
            "text/html": [
              "<html>\n",
              "<head><meta charset=\"utf-8\" /></head>\n",
              "<body>\n",
              "    <div>            <script src=\"https://cdnjs.cloudflare.com/ajax/libs/mathjax/2.7.5/MathJax.js?config=TeX-AMS-MML_SVG\"></script><script type=\"text/javascript\">if (window.MathJax && window.MathJax.Hub && window.MathJax.Hub.Config) {window.MathJax.Hub.Config({SVG: {font: \"STIX-Web\"}});}</script>                <script type=\"text/javascript\">window.PlotlyConfig = {MathJaxConfig: 'local'};</script>\n",
              "        <script charset=\"utf-8\" src=\"https://cdn.plot.ly/plotly-2.35.2.min.js\"></script>                <div id=\"7bfc5227-97b0-4f78-ae19-5087f252ef86\" class=\"plotly-graph-div\" style=\"height:525px; width:100%;\"></div>            <script type=\"text/javascript\">                                    window.PLOTLYENV=window.PLOTLYENV || {};                                    if (document.getElementById(\"7bfc5227-97b0-4f78-ae19-5087f252ef86\")) {                    Plotly.newPlot(                        \"7bfc5227-97b0-4f78-ae19-5087f252ef86\",                        [{\"alignmentgroup\":\"True\",\"bingroup\":\"x\",\"hovertemplate\":\"Volume=%{x}\\u003cbr\\u003ecount=%{y}\\u003cextra\\u003e\\u003c\\u002fextra\\u003e\",\"legendgroup\":\"\",\"marker\":{\"color\":\"#636efa\",\"pattern\":{\"shape\":\"\"}},\"name\":\"\",\"offsetgroup\":\"\",\"orientation\":\"v\",\"showlegend\":false,\"x\":[93831500,85935500,41094000,25699000,34334500,34608500,38557000,20253000,11012500,13400500,20976000,18699000,13106500,12432500,9126500,6262500,4789000,3268000,4611000,3098500,2336000,3080000,2134500,3590500,6152500,4565000,3981000,3709500,4063500,6406500,3988000,3455000,3170000,2429000,2239500,3006500,2895500,1480000,5440500,3365500,2516500,2169000,1898000,3664000,1005500,2474500,2435500,2173000,1217000,1442000,1881000,1933000,1804000,3273500,3423000,13422500,5992500,4737500,3980000,4814500,3340500,2894500,2093000,6072500,9846500,10979000,2988500,3218000,1660000,1567000,705000,1339000,856000,1220000,1591000,1474000,1423500,814000,1226000,1562500,2085500,805500,592500,3304500,1782500,1121000,1403000,2279000,1612500,1863000,9370000,5055000,2547500,4782000,15302500,9726500,13645500,13114500,6738000,3750000,4780500,5752500,7648500,7889000,7125000,1753000,5728000,11113000,6496000,10035000,5800500,6372000,6556500,3300000,2030000,2147000,2052000,8828500,3714500,3950500,4065000,2617000,3888500,4166500,7763000,46509500,20281500,16596000,10205500,7089500,6415000,5937000,7233500,10306000,11239500,6713500,8551000,4822000,3618000,5960000,8108500,11857500,11399500,6085000,8225500,6357500,5399500,4478500,5242000,4151500,3539000,2847500,2560000,2720000,4475500,17524500,13178000,4180500,3172500,6415500,4768500,20575500,13092000,11853500,10323000,8028000,5276500,6731500,5256000,5532000,3316500,3201000,7900500,10168000,6999500,4624000,5085000,4654000,5830000,6594000,5848500,4613000,3439500,2058500,2914500,2114000,2311000,2840000,5290500,3777000,6116500,57589000,14324000,13046500,15904500,6441500,14051500,9732000,6847000,6787000,6057500,4917000,4717500,5169500,2743500,4186000,6930500,4004500,7000000,4984500,8000000,3630000,3923000,4569500,5222500,6092500,4908500,4582000,7676500,4812500,3140000,3307500,3778500,6171000,3647500,13275500,4212500,4318000,3068500,23465500,16684500,8435500,16452500,7649500,4931500,31046000,11655500,6110500,8479500,8016000,7833000,8567000,7867000,6725000,9211000,8570000,7689000,7480000,7378000,5850000,18042500,9047000,4446000,7309000,4733500,4274500,4980000,4634500,6639500,6203000,4879000,5227000,5330000,5795000,3545000,4259500,5130500,15241500,5057500,2917500,3366500,3803000,4792500,4693500,4741000,5824500,7747000,8972500,15322500,9822000,13042500,6667000,7821000,4182500,5045500,3693000,2688500,3218500,5283000,6876500,4930500,4345000,3421500,3399000,3809000,4017000,1831000,4119000,4240500,3849500,4049000,2296000,2528500,3346500,2833000,3632500,4154000,2813000,7085500,5787000,5902000,4938000,3879000,5782000,4674000,3372500,3616500,4648000,6680500,5116000,6001500,6147500,8845500,6558000,4617500,2878500,5617000,5217500,7002500,3772500,4998500,3964500,4998500,5713000,4703000,3272000,2552500,4347000,6320000,5670000,3176000,4376500,12548500,15164500,6331500,5839500,4768500,3736500,19341500,6628500,4455000,9166000,6746500,4514000,5158000,3663000,2259000,1198000,3406000,2955500,3801500,5151000,4014000,5800500,4759000,3371500,16529000,6197500,3793500,4970500,5819500,3501500,5148500,4935000,4216500,8527500,5047000,2957000,3887500,2876000,2441000,1699000,4640500,3150500,5027500,4931500,4485000,3359000,3361500,3646500,27502000,23258000,6301000,6231500,3311500,2973000,4290000,3056000,6355500,3742000,3645000,4782000,2616000,4028500,3822500,3260500,5108000,3118500,6385500,9371000,5789500,9054000,13809000,11098500,6883500,5679000,8273000,4102000,4799500,3030000,3061000,2678500,3517500,2750000,2335000,2869000,1824500,3166500,7767000,9816500,5008000,4257500,2858000,3646500,5078000,2835000,3036000,2612000,5853000,15702500,12696000,4775000,3982000,4432000,5143000,5490500,22409000,7547000,8278500,9238500,5527500,5169500,3248000,5498000,5577500,4115500,3874500,4109000,4454000,3372500,3561000,2126500,2955000,2069500,3295000,2486500,4206500,6237500,5790000,15486000,9739500,27781500,6106500,6904500,7928500,6285500,5745000,8082500,7376000,11831000,6102000,5378000,3785000,8250000,6536000,5593500,4429000,5154500,3154500,4549500,2460500,4405500,3180000,2845000,4220500,4361000,3234000,6284000,4555500,17112000,9459500,15233000,7492500,13069500,5236000,4570500,5629000,6578000,4735000,6269000,3922500,4552500,3792000,3193000,5628500,6524000,8720000,12846500,14409500,7179500,7842500,6934000,7501500,14211000,11311500,8365000,10326000,7875500,7961500,6525500,6047500,7641000,11936000,6544500,3363000,3537000,4350500,3967000,2627000,3345000,2541000,5895500,3808000,3877500,7355000,7147000,6752000,7013500,4194500,3282000,2699000,3762500,3196500,4208500,4766000,7416500,5074500,5726000,7423500,7683000,16064000,8942500,5242500,4562000,9350000,6509500,28402000,7636000,8793000,21717000,4422000,3645000,5264000,7706500,4693000,4448500,5965000,2518000,2253000,4938000,7343500,2396500,3340000,3705000,5137000,2351000,3745000,5082000,2888500,2387000,3876000,5120500,5151500,10244500,11620000,8572500,6370000,4315000,2779500,4991500,4356500,4920000,4543500,6962000,4612500,4816000,2151500,2479000,4554000,7626000,5517000,7101500,10428500,6316500,3307500,3302000,3322000,4649000,7863000,10319000,10756500,5115000,4124500,7769500,6494000,4606000,7462000,1879000,3007000,2805500,2070500,2974500,5974000,3710000,3370000,2210000,6420000,3490000,4612500,7816000,4625500,8121000,6891000,7183500,17775500,9601000,7821500,9852000,6439000,9930000,7133000,4840500,4507000,5503000,5640000,6551000,9466000,5983000,5699000,16331500,11306500,4834000,4953500,10088000,13507000,15610000,45189000,12736500,14447000,13814500,9796000,9824500,7733000,8788500,10435000,5750000,5791500,4560500,7897500,6375500,4110000,10105000,16398000,6580500,5492500,7115000,5731500,2201000,11894000,9041000,6481500,5793500,70492500,33262000,28218000,11324000,7762000,8395000,8480500,10605500,17237000,15747000,8407000,15902000,10592500,16839500,15058500,19697000,18669000,13150000,13979500,18110500,18198500,27613000,13714000,15252000,16893500,21833500,49955000,33849500,143025000,125413000,112084500,185819500,84393500,108070000,95011000,41742000,44991000,42840000,60111000,80621000,98459500,125497500,80668500,75860000,95698000,44280500,61124000,47554500,53558000,46143000,36970000,45963500,29808000,32823500,35331000,43976500,42894500,50532500,58593000,35599000,29243500,33013000,43724500,28743000,54518000,60320500,24033500,34093500,39071000,43016500,28000500,37418000,56720000,49612000,161859500,130145000,56990500,29451500,48989000,38682000,34345000,26421500,48165500,48394500,65635000,31758500,26618000,31349500,51003500,46272500,91061000,136234000,44638500,74561000,43744500,58469000,50896000,35540500,40188500,32091000,31331500,52962000,64659500,120855500,87834500,73700500,47180000,55142000,60305500,57378500,33426500,43098500,71722500,44839000,29162500,30800000,27006000,37874500,27484500,27198500,77973000,67008500,40867000,31367000,41263500,33072000,29582000,44623500,38779500,103877000,119082500,72070000,57428000,68786000,76582500,44419500,41555500,38848000,54892500,41027000,33525000,29654000,57660500,56933500,66602000,54128500,37977500,39208500,70558500,42009000,46669000,35903000,65602000,112335500,155358500,111423500,112389500,69988000,74926000,63291500,61018500,49501000,115691000,99081000,69248000,59519000,55483500,51336500,69427500,61838000,48581000,38756000,128412000,65738500,46442000,39548000,45307500,53741000,35689000,53839000,52959500,33376500,52475000,57909500,63700000,37063000,26927500,49707500,35647500,27301000,22337500,21312000,30942000,23475000,26805500,25170500,30816000,26910000,37230500,31580500,138035000,102328000,59797000,46031000,48673500,35113000,39337000,38321500,43582000,30467000,29677500,42825000,32544000,33824500,23431500,36340000,29208000,44642500,64853500,53549500,25868500,40146500,30790000,46664000,80845000,90011500,39094000,41392000,163408500,123023000,89729000,72949000,65446500,43728000,29678500,36805500,39061500,38640500,44050500,48772000,31181500,41448500,29563000,31211500,25356500,19089500,41084500,56644000,39327000,34536500,47478500,48424000,41900000,36857000,53911500,54618500,56728000,49277500,34446500,25789500,36057500,45336000,38515000,68296500,36011000,29634000,26291000,49023500,36478000,27476000,34983500,35210000,28895500,22203000,27199500,20434000,25735000,28183500,50896500,100283000,42476000,35011500,35486000,27033500,30202000,22438500,22858500,27730500,26427000,31072500,20034000,26705500,27475500,18462500,27905500,23340500,19304000,17137000,20273000,15369000,14028500,17573500,19887500,29968500,17721500,66232000,66524500,34701000,43965500,24519500,38955500,40379500,29008000,25607000,28175000,24143000,21680500,40137000,25833500,29468500,39181000,20577000,24319500,16511500,36016000,28592500,20222500,23247000,21268500,19111000,13650000,15416500,16227500,15435500,32571500,16912000,24639000,38745500,59479000,29798500,26943000,46246500,37394500,25450500,40506500,31911500,34663000,20633000,19339500,29246000,26674000,15139500,14578000,14167000,21590500,19090000,14925500,14224500,32235500,49262000,33861500,41708500,55849500,27508000,22794000,18906500,18830500,16623000,82277000,41500500,25888500,18463000,34054500,41070500,28293500,18747500,24171000,18977000,24263500,21191500,29708500,44991000,27031500,38566500,22427500,25275500,36806500,64441500,56343500,35526500,45736500,26996500,52747000,17472000,20651500,20583000,17462000,17316500,47766500,52581500,24812500,16142000,18876500,21019000,18413000,45229500,76773500,25805000,22886000,39744000,29354000,31180000,30505500,20128500,22365000,39592500,17936000,37425500,23948500,15799000,9906000,10598500,43097000,29435000,26538500,19278000,30318000,46128000,47157500,36570500,33472000,35869000,26091500,42130500,36839000,37416500,34552500,23997000,22528500,6661000,16635000,14012500,14516000,11487500,23822000,26842500,31309500,14842000,17212500,23341500,29751500,22386500,57759500,26082500,18016000,22516000,20765000,20584500,17193000,16172500,13905000,15748000,17740500,15035000,20746000,24131000,16527000,17614500,16219500,17362000,26952500,48845500,78248000,30955000,19898000,13568000,25770500,29910500,42499000,33018000,19547500,32364500,19410500,39610500,22161500,21110000,24385000,33562000,33683500,27898500,24874500,20746500,27171500,28144000,24470500,24104500,42376000,21347500,13158000,18249500,28652000,20640000,43024500,50447500,25133000,18973000,25052000,62279000,21739500,31515500,19001000,20338500,18791000,15130000,9762000,8295500,12349500,12796500,17162500,39315000,22056000,12139000,58363000,30427000,19680500,19559500,26408500,22173000,28984500,26354500,47279500,23341000,28361500,31817000,27201000,14479500,22638000,16766000,18371000,18778000,9853000,11115500,17493500,17041000,18236500,18946500,12525500,10674000,8907500,12268000,15110000,25085000,13055500,17272500,10220500,7111500,10931000,9923500,27564500,13913500,12315000,22805500,19354000,12061500,14246000,19192000,17394500,15434500,10506000,35819500,20609500,30525500,31105500,16670500,13054500,14801500,9538000,10108000,8080000,25020500,24892500,30543500,15525000,11136000,14182500,23471000,19479000,13950500,10173000,11113000,12767500,11762500,31071500,73119000,25367000,20929500,21324500,18640000,23446000,21824000,35883500,20975000,18021500,24529000,32951000,47908000,21636500,24815000,38280000,27568500,23501000,27274000,23146000,20974000,18446000,15691000,16954000,13545000,11754000,14454500,14667500,22085500,17929000,18815500,30601000,18322000,13004000,17241000,18867000,24505500,18516000,24648000,22865000,22120000,18449500,26126000,34070000,30666000,30792000,19181500,25857500,15522000,14221000,21672500,12539500,74500000,20757500,14126000,21177500,16957000,17597000,13643000,9025000,22194500,19639500,41662500,63632000,22484000,12226500,19254500,23085000,16739000,14579500,17151500,14627000,10743500,14059500,12522000,22003500,12631000,12401500,19954000,9747000,13299000,18670000,14907500,14698000,12868000,15721000,13438000,15289000,10358500,16343500,14135500,11222000,25521500,16493000,15071000,9766000,9807500,7775000,3540000,9506500,12031500,18489500,13575000,34135500,15934000,18895500,17771500,18140500,20457000,15459500,20632000,32453500,27893000,20193500,29193000,15831000,15620500,13493500,24821000,18086000,22964000,14261500,26488000,28868000,39657000,21927000,47188000,46565000,43258000,52032500,71262000,36179000,27969000,29126000,19438000,14797000,25300500,29922000,26978000,28753500,30325500,22495000,33561000,24312000,24145000,32445500,26647000,20893500,16043000,25962500,16715500,20328500,15902500,17583500,18914500,23559000,26539000,21580000,24744000,24804500,19628500,20071500,20165000,40064500,79987500,67376500,49743500,58527500,44281000,36819500,45808500,28816000,24628000,20661000,18762000,21357000,31787500,25970500,13915500,18931500,18351500,16119000,16029000,12595000,27069000,19219500,21511000,43502500,56274000,28426000,23882000,20353000,25809500,18252500,14114000,14747000,14218000,28087500,34331500,45035500,25512500,15069000,15634000,20362000,18251500,13945000,14913500,10164000,11145000,11247500,31068000,29860000,22460500,30133000,20965000,17901000,14542500,12201500,15563000,17777500,22645000,118712000,50653500,35132500,36027000,31062000,29974500,24215500,27000000,25876500,24599500,18060000,20374000,27149000,22856500,17835500,13379000,11171000,17060500,15575500,12842500,22143500,12898500,22453500,17150000,14445000,12095500,15354000,20081500,19672000,19439000,20735000,16026000,11318000,11039000,11691500,9404500,9067500,10171500,11335500,8935500,8572500,8297500,10327500,23922000,12853500,8812500,11195000,16331500,15844500,16382500,39715500,29887000,21953000,18204500,16889500,18785000,18576000,17947000,11272500,15386000,15539000,11497500,12052500,13167500,11914500,14526000,11972000,16866000,10442000,13635000,12931500,29999500,17707500,9387500,23517000,17465000,16581500,11642000,9853500,12473000,21349500,22770500,28402500,34956000,25364500,14717000,13758000,12225000,28164000,65468500,21400500,23461500,35300000,21267000,13265000,25730000,19350500,16338000,40865500,33751500,19942500,32761000,19510000,17172000,24435500,26051500,21805000,28017000,24459500,11830500,22646000,22196500,17735500,25632000,20211500,20361000,16958000,27309500,15970500,13612500,12194500,34119500,20754500,16098000,18984500,17440500,23445500,26038000,15555500,23352500,29578500,18912500,20225000,23213000,29616500,56067500,29558500,27639500,19897500,18300000,18254000,18951000,30465000,23087500,18845000,38661500,21021500,31314500,24827500,25713000,15760500,15831500,19005500,20580500,19794000,12499000,10933500,17812500,21224000,19665000,39101000,18098500,35148000,36726000,24739500,35386500,31285500,28383500,43775000,74576000,40858000,57304000,30390500,24047500,16759000,14597000,16777500,17297500,18626000,19396500,15331500,15113000,37992000,26654000,35661000,32487500,18071500,34543000,20296500,16601000,28236500,31154000,39938000,18381000,20742000,16473000,69443000,50673000,39404500,27603000,22898000,38322500,28623000,30253500,46423000,20693500,15178500,19490000,30747000,22549000,25417500,33688500,23475000,17343000,22527500,44148000,26914000,35667000,70760000,40886500,35032500,48382500,28708000,23769000,20608000,38110000,20762500,33559500,28269000,23438000,21646000,21592000,25166500,25070000,39011000,38914500,49817000,38040000,27951000,33922000,55434000,46990000,45307500,86307000,52588500,59039500,64092000,52132500,33655000,32746500,37193500,24616000,37649000,32229000,33020500,34982000,31512500,41105000,29242500,31527000,85233500,96622500,70884500,69104500,57797000,51730500,42972500,28126000,49384500,31868500,31785000,25831000,24508000,43185500,34946000,24104000,41512000,24402000,42675500,41515500,65457500,67675000,46344500,31622500,37249000,34460500,35464500,21829000,22596000,15425500,17069000,25138500,27041000,32477000,21610000,24772500,22923500,17420000,18820000,20368500,17064500,20364000,15247500,19175500,20457000,21196000,16317500,38335500,29864500,20926000,36012500,27102500,35940000,32259500,24595500,23091000,40797000,38029500,35781500,30301500,26598000,25535500,26434000,50768000,40817500,20858500,21487500,37468500,34892500,22504000,20435000,17702500,26877500,16466500,24695500,25309000,24652000,28736500,22458500,42970500,25117500,34898500,21272000,28361500,42286500,98957000,44470000,32430000,26471500,23626500,27235500,23127000,37924500,28380500,29893500,29110500,68675500,41238500,36306500,24588000,16220500,22779500,24747500,43837000,21758000,21464500,29175500,23232500,35976500,23903000,17342500,39690000,43666000,31107500,28999500,34666000,27381000,34125000,29769000,21926000,21079000,21892000,23560500,21581500,18886000,21761000,22607500,49731500,22956000,49297000,35733000,21549500,33227500,24125500,32371500,35517500,28429000,24441500,31052000,27327000,26437500,33701500,22697000,23735500,23588500,31070500,20988500,18524000,22320500,25442000,34846000,51573000,64668500,31139000,22801000,19753500,29564500,28213000,20047000,16098000,34849000,29087000,21700000,23987000,30348500,34428000,25464000,19119000,21428500,25036500,17831000,27534000,41320000,29829000,39837000,32824000,30586500,37421500,23821500,29792000,24699000,33274500,41876000,69360000,105007000,75853500,80570000,94222000,99483500,95605500,67601500,51249000,54949000,37414500,38044000,36636000,31692500,35000000,32788500,30453000,28139500,24467000,28426500,20068000,21780000,21823000,21141000,23128000,44852000,86760500,42847000,43391000,29650000,28637000,28258000,23398000,36434000,47596000,28370000,22103000,36259500,45913000,44729000,29925500,20883500,19375500,28333000,37448500,29598500,27122000,23989000,29976000,93836500,71726500,41026000,65917500,111737000,47349000,54905000,54241500,60366000,63809500,41918500,39835500,51330500,34656500,37262500,41668500,41990000,32462000,93799000,61413000,87382000,44327500,37984000,47357500,24420500,28606000,29349000,39093500,34981000,28121000,29576500,25811000,54964500,47954000,35377000,23152500,28516500,34070500,25384500,50647000,116075000,68282500,42821500,154379000,122856000,85919000,57760000,52319500,34932000,45506500,30320000,94793000,87011500,65861000,29730000,25736500,18013000,65396500,38245500,37237000,36083500,26875500,41752500,38604000,37404000,112459500,71417500,45850000,50077000,31701500,33828000,34438000,82737500,41474500,36747000,25252500,24215000,22408500,39216000,42545500,168248500,108888000,58717500,39975000,49071000,89722500,67363500,60303000,64076500,40838500,36007000,31000000,47632000,43277500,27106000,46877500,28001500,95139000,100291500,104203500,137127500,72430000,45633500,38121500,40000500,39040000,39155000,33814500,36872500,35453500,25494000,34707500,27243000,25201500,23128500,36031000,48544500,40023500,23434000,21013000,39960500,31791500,20638000,15403500,28145500,41532500,42309500,39212500,57556000,33067500,31544000,25135000,36829500,31688000,38370000,35500000,41371000,45359500,40084000,27799500,40815500,42875500,49695000,31511500,58293000,34826000,36970500,37756000,35042500,27164500,30282000,25195500,26236500,30283000,23458500,18383500,120754000,60333500,62650000,40061000,36248000,32116500,23108500,56251500,62846000,36417000,36760500,33714000,25192500,32603000,29221000,35648500,27588000,25708000,26004000,19524500,20842000,35710500,44546000,28703000,33132500,42912500,55919500,52603500,114557000,85484000,93823500,51677500,47212500,44098000,36961500,37520500,34223500,35517000,73927500,51405000,59003000,34541000,29735500,43728000,51075000,36754500,43896000,33870500,29956500,40552000,27394500,39597000,118603500,65191500,52052000,29520000,35306500,49179500,33730000,50193000,36364500,25632500,29381500,60735500,54719500,53637500,109247000,111803500,83572500,47323000,53522000,90796500,118534000,54169500,50657000,30882000,33557000,35041500,54174000,36262000,36480000,37416500,88933500,102631000,90019500,93426000,132735500,70683000,51564500,59843000,39632500,52033500,65322000,69037500,67554000,101211000,80017500,52925000,58267500,75987500,40841500,37167000,61584000,63579000,32875500,59317500,41010500,28754000,30910500,42536000,31698500,34257000,41067000,46295000,71005500,35328500,29402500,30954000,45728500,37572000,46002500,55000500,40745000,48823500,23793000,35242000,34212000,25115500,55364000,112091500,50138500,46366500,40545000,45891000,41297500,30682500,35141500,27821000,23882500,26371500,19491000,23319500,24240500,47813000,40798000,25492500,26548000,20626000,38971500,32795000,42693000,25259500,27081000,16127500,25897500,46603000,26770500,28805000,36976500,20947000,24013500,24418500,50214000,42906000,26565500,23640500,19327000,20851000,23979000,31765000,21701000,64457500,47135500,59422500,55582000,29399000,30813000,28157000,75422500,39975000,40321000,43391000,34472000,31416500,42377000,51025000,32164000,33420500,23846500,28749000,25101500,23004000,26305500,148604500,150030500,94351500,63421500,48209000,25335000,31919500,43935000,34717000,39704500,72336500,30346000,49933500,36797000,42100500,32324500,24045000,22002000,38624000,33625500,30550000,84353000,61697500,39737000,27778000,12328000,30372500,32868500,27665000,18623000,38062000,45115500,44141500,34489000,38819500,32854500,90871000,42484000,70605000,90535500,73763500,66598000,40273500,53169500,49728500,62932000,51428500,47660500,88892500,50665000,89410500,155721500,142202000,64797500,132588000,144981000,86844000,108683500,68145500,89017500,156845000,98255000,71768000,68040500,58942500,89007500,145028500,78596500,235325000,304694000,242119000,199404000,85317500,123446000,58487500,60112500,131446500,78468500,81908500,127115000,88174500,71574000,75961000,86452500,70427500,121386000,121114500,100975000,128920000,75245000,54263500,63314500,85368500,77972000,66612500,94545500,113201500,102447500,119973000,118931000,150977500,141427500,82272500,114476000,106113500,86903500,71887000,59990500,88857500,66766000,99292000,112810500,74509000,89599000,63280000,68250000,112377000,152882500,117885000,103289500,65641000,73733000,101045500,70827500,66183500,66060000,103407000,76110000,81080000,142359500,162659000,96185500,84958500,55616000,57638500,80432500,82598000,79534500,95327500,68411000,52592000,58329000,48182500,36546500,61273000,49937500,40448500,57747500,36278000,58822500,74697500,67828000,39747500,44438500,39059500,70873500,56941000,92817000,79582500,83817000,78486000,70255500,49454000,48759500,43398500,31812000,31826500,54798000,46272500,44274500,45132000,84592500,66634500,86250500,102849500,107448500,81556500,58588000,116688000,194927000,117090500,81839000,71504000,46650000,85607000,80536000,70805500,121642500,96983000,80243500,79043500,47134500,38105000,61041000,44046500,42075000,24739000,29961500,44482000,37611500,43129000,109147000,102126500,62888000,101211500,82372500,61026500,103059000,107448000,100318000,53294500,71197000,118465000,100406000,118374400,89841100,96176100,87596100,110321900,115465700,79465800,84930600,60717500,83020600,97298200,72279300,76779200,86406800,109476800,79580800,95074200,96561100,67208500,49719600,50219300,48145600,50741500,71430000,44722800,49146300,43127700,40421100,28925700,38791100,34463700,47879700,35672400,32775900,36287800,31656300,32370500,39993200,33717000,28239200,22686500,25451400,22655300,42511300,29021100,34351700,32143100,28414500,21706000,34833000,30284200,17357700,19855100,19771100,26838600,61188300,78044000,62475300,32911900,50260300,53648500,48930200,37561100,63003100,40103500,47775700,42552000,29401300,56309700,64265000,71291200,67083200,46475000,52040600,45071500,42095800,56270100,222126200,58045300,51716000,33173000,22865600,32278600,22910800,42846000,49649900,48638200,32245200,44700000,51498900,75055500,59301600,46270700,33312500,31266300,38777600,25367000,25665900,20521100,20066500,41173400,23131600,27334000,26378000,34990800,25391400,24346200,18343500,15812700,18566600,20161700,15157700,36216100,21622800,23768300,19802300,25996500,17957100,18958300,37269700,66606900,36767000,39023900,41089200,27136200,23732200,30208000,65919500,89396500,51787000,67523300,60605700,36253900,33583800,29335600,32195700,40372500,33224800,42894000,39512200,30491900,33795200,39224900,33852800,28637000,39432400,33337300,35298400,41842800,28271800,26309400,23924300,21437100,29135700,44652800,49017400,27848900,27979500,39686200,35609000,31215500,35590300,28370000,31038500,29437000,22271000,28845400,40758700,27043100,29739300,21901900,27784600,23469200,31392400,46503900,33823600,44184900,33370900,32390400,36830600,39578400,30821100,26030600,34558100,28005900,28639300,26370600,22737000,18084900,23302800,30111900,24036900,22543700,26053400,16584600,23919600,16205300,20424000,17764100,22144100,22701400,24560900,24812700,19158900,31099200,45982400,32496700,21628200,17381300,18924900,18634500,27054500,23284500,18792000,22773300,18140500,25927000,20966100,21641200,20209600,16371000,21297100,15487100,13953300,15105700,14604900,25336600,32813300,16006600,30394600,29656400,33615800,21620300,17002600,12919600,15623000,14715300,13432300,9800600,17459100,16731500,22677400,23721300,20349400,14313500,14841900,20264900,13083100,12645600,13214300,13833800,18604200,20855400,13204300,12777300,15246100,20039800,18793000,14077700,15184200,22952500,18524900,15357700,13923400,28204200,24757700,16330700,15126300,11947500,21373000,28070700,25381400,20942900,17956000,17031400,30483300,18432600,14632800,19195800,16738600,14200300,22020000,14120100,12247200,18924600,24207200,17381100,14032100,31481500,22880800,62852100,62415000,38526500,27213200,29918400,56048700,42737800,34628500,25397400,21628800,33445700,59105800,42802700,22396600,25573100,34775600,26542400,31445400,20898900,21642300,33072500,36171700,22560200,11680900,19464500,27092000,22816800,24371600,30774000,27221000,18694900,13968800,19812800,19888100,26198500,23602100,25056400,27590500,33479100,18826700,23839300,31211400,30904400,23715300,20108000,18718000,15680300,13577900,34643800,33416100,26706600,30112200,28054900,30605000,22021100,27913000,32403300,24308100,22247800,25147500,23496200,34472000,50521900,28865300,34955800,49036500,44929700,34812000,24379400,22264300,26285200,24541800,20331500,16909700,17419800,22042300,26548600,22585500,19095400,17098100,18392800,22833900,27762700,31752300,45107400,25355900,33002300,24922300,24881100,20541200,22333200,24164700,26799700,19728000,19549500,22272800,23717400,22280400,28009600,22194300,33408500,27327200,35289500,40225400,22901900],\"xaxis\":\"x\",\"yaxis\":\"y\",\"type\":\"histogram\"}],                        {\"template\":{\"data\":{\"histogram2dcontour\":[{\"type\":\"histogram2dcontour\",\"colorbar\":{\"outlinewidth\":0,\"ticks\":\"\"},\"colorscale\":[[0.0,\"#0d0887\"],[0.1111111111111111,\"#46039f\"],[0.2222222222222222,\"#7201a8\"],[0.3333333333333333,\"#9c179e\"],[0.4444444444444444,\"#bd3786\"],[0.5555555555555556,\"#d8576b\"],[0.6666666666666666,\"#ed7953\"],[0.7777777777777778,\"#fb9f3a\"],[0.8888888888888888,\"#fdca26\"],[1.0,\"#f0f921\"]]}],\"choropleth\":[{\"type\":\"choropleth\",\"colorbar\":{\"outlinewidth\":0,\"ticks\":\"\"}}],\"histogram2d\":[{\"type\":\"histogram2d\",\"colorbar\":{\"outlinewidth\":0,\"ticks\":\"\"},\"colorscale\":[[0.0,\"#0d0887\"],[0.1111111111111111,\"#46039f\"],[0.2222222222222222,\"#7201a8\"],[0.3333333333333333,\"#9c179e\"],[0.4444444444444444,\"#bd3786\"],[0.5555555555555556,\"#d8576b\"],[0.6666666666666666,\"#ed7953\"],[0.7777777777777778,\"#fb9f3a\"],[0.8888888888888888,\"#fdca26\"],[1.0,\"#f0f921\"]]}],\"heatmap\":[{\"type\":\"heatmap\",\"colorbar\":{\"outlinewidth\":0,\"ticks\":\"\"},\"colorscale\":[[0.0,\"#0d0887\"],[0.1111111111111111,\"#46039f\"],[0.2222222222222222,\"#7201a8\"],[0.3333333333333333,\"#9c179e\"],[0.4444444444444444,\"#bd3786\"],[0.5555555555555556,\"#d8576b\"],[0.6666666666666666,\"#ed7953\"],[0.7777777777777778,\"#fb9f3a\"],[0.8888888888888888,\"#fdca26\"],[1.0,\"#f0f921\"]]}],\"heatmapgl\":[{\"type\":\"heatmapgl\",\"colorbar\":{\"outlinewidth\":0,\"ticks\":\"\"},\"colorscale\":[[0.0,\"#0d0887\"],[0.1111111111111111,\"#46039f\"],[0.2222222222222222,\"#7201a8\"],[0.3333333333333333,\"#9c179e\"],[0.4444444444444444,\"#bd3786\"],[0.5555555555555556,\"#d8576b\"],[0.6666666666666666,\"#ed7953\"],[0.7777777777777778,\"#fb9f3a\"],[0.8888888888888888,\"#fdca26\"],[1.0,\"#f0f921\"]]}],\"contourcarpet\":[{\"type\":\"contourcarpet\",\"colorbar\":{\"outlinewidth\":0,\"ticks\":\"\"}}],\"contour\":[{\"type\":\"contour\",\"colorbar\":{\"outlinewidth\":0,\"ticks\":\"\"},\"colorscale\":[[0.0,\"#0d0887\"],[0.1111111111111111,\"#46039f\"],[0.2222222222222222,\"#7201a8\"],[0.3333333333333333,\"#9c179e\"],[0.4444444444444444,\"#bd3786\"],[0.5555555555555556,\"#d8576b\"],[0.6666666666666666,\"#ed7953\"],[0.7777777777777778,\"#fb9f3a\"],[0.8888888888888888,\"#fdca26\"],[1.0,\"#f0f921\"]]}],\"surface\":[{\"type\":\"surface\",\"colorbar\":{\"outlinewidth\":0,\"ticks\":\"\"},\"colorscale\":[[0.0,\"#0d0887\"],[0.1111111111111111,\"#46039f\"],[0.2222222222222222,\"#7201a8\"],[0.3333333333333333,\"#9c179e\"],[0.4444444444444444,\"#bd3786\"],[0.5555555555555556,\"#d8576b\"],[0.6666666666666666,\"#ed7953\"],[0.7777777777777778,\"#fb9f3a\"],[0.8888888888888888,\"#fdca26\"],[1.0,\"#f0f921\"]]}],\"mesh3d\":[{\"type\":\"mesh3d\",\"colorbar\":{\"outlinewidth\":0,\"ticks\":\"\"}}],\"scatter\":[{\"fillpattern\":{\"fillmode\":\"overlay\",\"size\":10,\"solidity\":0.2},\"type\":\"scatter\"}],\"parcoords\":[{\"type\":\"parcoords\",\"line\":{\"colorbar\":{\"outlinewidth\":0,\"ticks\":\"\"}}}],\"scatterpolargl\":[{\"type\":\"scatterpolargl\",\"marker\":{\"colorbar\":{\"outlinewidth\":0,\"ticks\":\"\"}}}],\"bar\":[{\"error_x\":{\"color\":\"#2a3f5f\"},\"error_y\":{\"color\":\"#2a3f5f\"},\"marker\":{\"line\":{\"color\":\"#E5ECF6\",\"width\":0.5},\"pattern\":{\"fillmode\":\"overlay\",\"size\":10,\"solidity\":0.2}},\"type\":\"bar\"}],\"scattergeo\":[{\"type\":\"scattergeo\",\"marker\":{\"colorbar\":{\"outlinewidth\":0,\"ticks\":\"\"}}}],\"scatterpolar\":[{\"type\":\"scatterpolar\",\"marker\":{\"colorbar\":{\"outlinewidth\":0,\"ticks\":\"\"}}}],\"histogram\":[{\"marker\":{\"pattern\":{\"fillmode\":\"overlay\",\"size\":10,\"solidity\":0.2}},\"type\":\"histogram\"}],\"scattergl\":[{\"type\":\"scattergl\",\"marker\":{\"colorbar\":{\"outlinewidth\":0,\"ticks\":\"\"}}}],\"scatter3d\":[{\"type\":\"scatter3d\",\"line\":{\"colorbar\":{\"outlinewidth\":0,\"ticks\":\"\"}},\"marker\":{\"colorbar\":{\"outlinewidth\":0,\"ticks\":\"\"}}}],\"scattermapbox\":[{\"type\":\"scattermapbox\",\"marker\":{\"colorbar\":{\"outlinewidth\":0,\"ticks\":\"\"}}}],\"scatterternary\":[{\"type\":\"scatterternary\",\"marker\":{\"colorbar\":{\"outlinewidth\":0,\"ticks\":\"\"}}}],\"scattercarpet\":[{\"type\":\"scattercarpet\",\"marker\":{\"colorbar\":{\"outlinewidth\":0,\"ticks\":\"\"}}}],\"carpet\":[{\"aaxis\":{\"endlinecolor\":\"#2a3f5f\",\"gridcolor\":\"white\",\"linecolor\":\"white\",\"minorgridcolor\":\"white\",\"startlinecolor\":\"#2a3f5f\"},\"baxis\":{\"endlinecolor\":\"#2a3f5f\",\"gridcolor\":\"white\",\"linecolor\":\"white\",\"minorgridcolor\":\"white\",\"startlinecolor\":\"#2a3f5f\"},\"type\":\"carpet\"}],\"table\":[{\"cells\":{\"fill\":{\"color\":\"#EBF0F8\"},\"line\":{\"color\":\"white\"}},\"header\":{\"fill\":{\"color\":\"#C8D4E3\"},\"line\":{\"color\":\"white\"}},\"type\":\"table\"}],\"barpolar\":[{\"marker\":{\"line\":{\"color\":\"#E5ECF6\",\"width\":0.5},\"pattern\":{\"fillmode\":\"overlay\",\"size\":10,\"solidity\":0.2}},\"type\":\"barpolar\"}],\"pie\":[{\"automargin\":true,\"type\":\"pie\"}]},\"layout\":{\"autotypenumbers\":\"strict\",\"colorway\":[\"#636efa\",\"#EF553B\",\"#00cc96\",\"#ab63fa\",\"#FFA15A\",\"#19d3f3\",\"#FF6692\",\"#B6E880\",\"#FF97FF\",\"#FECB52\"],\"font\":{\"color\":\"#2a3f5f\"},\"hovermode\":\"closest\",\"hoverlabel\":{\"align\":\"left\"},\"paper_bgcolor\":\"white\",\"plot_bgcolor\":\"#E5ECF6\",\"polar\":{\"bgcolor\":\"#E5ECF6\",\"angularaxis\":{\"gridcolor\":\"white\",\"linecolor\":\"white\",\"ticks\":\"\"},\"radialaxis\":{\"gridcolor\":\"white\",\"linecolor\":\"white\",\"ticks\":\"\"}},\"ternary\":{\"bgcolor\":\"#E5ECF6\",\"aaxis\":{\"gridcolor\":\"white\",\"linecolor\":\"white\",\"ticks\":\"\"},\"baxis\":{\"gridcolor\":\"white\",\"linecolor\":\"white\",\"ticks\":\"\"},\"caxis\":{\"gridcolor\":\"white\",\"linecolor\":\"white\",\"ticks\":\"\"}},\"coloraxis\":{\"colorbar\":{\"outlinewidth\":0,\"ticks\":\"\"}},\"colorscale\":{\"sequential\":[[0.0,\"#0d0887\"],[0.1111111111111111,\"#46039f\"],[0.2222222222222222,\"#7201a8\"],[0.3333333333333333,\"#9c179e\"],[0.4444444444444444,\"#bd3786\"],[0.5555555555555556,\"#d8576b\"],[0.6666666666666666,\"#ed7953\"],[0.7777777777777778,\"#fb9f3a\"],[0.8888888888888888,\"#fdca26\"],[1.0,\"#f0f921\"]],\"sequentialminus\":[[0.0,\"#0d0887\"],[0.1111111111111111,\"#46039f\"],[0.2222222222222222,\"#7201a8\"],[0.3333333333333333,\"#9c179e\"],[0.4444444444444444,\"#bd3786\"],[0.5555555555555556,\"#d8576b\"],[0.6666666666666666,\"#ed7953\"],[0.7777777777777778,\"#fb9f3a\"],[0.8888888888888888,\"#fdca26\"],[1.0,\"#f0f921\"]],\"diverging\":[[0,\"#8e0152\"],[0.1,\"#c51b7d\"],[0.2,\"#de77ae\"],[0.3,\"#f1b6da\"],[0.4,\"#fde0ef\"],[0.5,\"#f7f7f7\"],[0.6,\"#e6f5d0\"],[0.7,\"#b8e186\"],[0.8,\"#7fbc41\"],[0.9,\"#4d9221\"],[1,\"#276419\"]]},\"xaxis\":{\"gridcolor\":\"white\",\"linecolor\":\"white\",\"ticks\":\"\",\"title\":{\"standoff\":15},\"zerolinecolor\":\"white\",\"automargin\":true,\"zerolinewidth\":2},\"yaxis\":{\"gridcolor\":\"white\",\"linecolor\":\"white\",\"ticks\":\"\",\"title\":{\"standoff\":15},\"zerolinecolor\":\"white\",\"automargin\":true,\"zerolinewidth\":2},\"scene\":{\"xaxis\":{\"backgroundcolor\":\"#E5ECF6\",\"gridcolor\":\"white\",\"linecolor\":\"white\",\"showbackground\":true,\"ticks\":\"\",\"zerolinecolor\":\"white\",\"gridwidth\":2},\"yaxis\":{\"backgroundcolor\":\"#E5ECF6\",\"gridcolor\":\"white\",\"linecolor\":\"white\",\"showbackground\":true,\"ticks\":\"\",\"zerolinecolor\":\"white\",\"gridwidth\":2},\"zaxis\":{\"backgroundcolor\":\"#E5ECF6\",\"gridcolor\":\"white\",\"linecolor\":\"white\",\"showbackground\":true,\"ticks\":\"\",\"zerolinecolor\":\"white\",\"gridwidth\":2}},\"shapedefaults\":{\"line\":{\"color\":\"#2a3f5f\"}},\"annotationdefaults\":{\"arrowcolor\":\"#2a3f5f\",\"arrowhead\":0,\"arrowwidth\":1},\"geo\":{\"bgcolor\":\"white\",\"landcolor\":\"#E5ECF6\",\"subunitcolor\":\"white\",\"showland\":true,\"showlakes\":true,\"lakecolor\":\"white\"},\"title\":{\"x\":0.05},\"mapbox\":{\"style\":\"light\"}}},\"xaxis\":{\"anchor\":\"y\",\"domain\":[0.0,1.0],\"title\":{\"text\":\"Volume\"}},\"yaxis\":{\"anchor\":\"x\",\"domain\":[0.0,1.0],\"title\":{\"text\":\"count\"}},\"legend\":{\"tracegroupgap\":0},\"margin\":{\"t\":60},\"barmode\":\"relative\"},                        {\"responsive\": true}                    ).then(function(){\n",
              "                            \n",
              "var gd = document.getElementById('7bfc5227-97b0-4f78-ae19-5087f252ef86');\n",
              "var x = new MutationObserver(function (mutations, observer) {{\n",
              "        var display = window.getComputedStyle(gd).display;\n",
              "        if (!display || display === 'none') {{\n",
              "            console.log([gd, 'removed!']);\n",
              "            Plotly.purge(gd);\n",
              "            observer.disconnect();\n",
              "        }}\n",
              "}});\n",
              "\n",
              "// Listen for the removal of the full notebook cells\n",
              "var notebookContainer = gd.closest('#notebook-container');\n",
              "if (notebookContainer) {{\n",
              "    x.observe(notebookContainer, {childList: true});\n",
              "}}\n",
              "\n",
              "// Listen for the clearing of the current output cell\n",
              "var outputEl = gd.closest('.output');\n",
              "if (outputEl) {{\n",
              "    x.observe(outputEl, {childList: true});\n",
              "}}\n",
              "\n",
              "                        })                };                            </script>        </div>\n",
              "</body>\n",
              "</html>"
            ]
          },
          "metadata": {}
        }
      ],
      "source": [
        "import matplotlib.pyplot as plt\n",
        "import plotly.express as px\n",
        "\n",
        "fig = px.histogram(df, x = 'Volume')\n",
        "fig.show()"
      ]
    },
    {
      "cell_type": "code",
      "execution_count": null,
      "metadata": {
        "id": "IRoBjbCce_A9",
        "colab": {
          "base_uri": "https://localhost:8080/"
        },
        "outputId": "f6ea29c9-cae0-4dde-eb36-fe4caa171662"
      },
      "outputs": [
        {
          "output_type": "stream",
          "name": "stdout",
          "text": [
            "         Date   Open   High    Low  Close  Adj Close\n",
            "0  2010-06-29  3.800  5.000  3.508  4.778      4.778\n",
            "1  2010-06-30  5.158  6.084  4.660  4.766      4.766\n",
            "2  2010-07-01  5.000  5.184  4.054  4.392      4.392\n",
            "3  2010-07-02  4.600  4.620  3.742  3.840      3.840\n",
            "4  2010-07-06  4.000  4.000  3.166  3.222      3.222\n",
            "0    93831500\n",
            "1    85935500\n",
            "2    41094000\n",
            "3    25699000\n",
            "4    34334500\n",
            "Name: Volume, dtype: int64\n"
          ]
        }
      ],
      "source": [
        "x = df.drop(['Volume'], axis = 1)\n",
        "\n",
        "y = df['Volume']\n",
        "\n",
        "print(x.head())\n",
        "print(y.head())"
      ]
    },
    {
      "cell_type": "code",
      "execution_count": null,
      "metadata": {
        "id": "DvnxR7gpgMpT"
      },
      "outputs": [],
      "source": [
        "from sklearn.model_selection import train_test_split\n",
        "\n",
        "train_x, test_x, train_y, test_y = train_test_split(x,y,test_size = 0.2,random_state = 2)"
      ]
    },
    {
      "cell_type": "code",
      "execution_count": null,
      "metadata": {
        "id": "8S7Zk47YgaFl",
        "colab": {
          "base_uri": "https://localhost:8080/"
        },
        "outputId": "52132739-df1b-4b61-ae3d-a2741b4b7fba"
      },
      "outputs": [
        {
          "output_type": "stream",
          "name": "stdout",
          "text": [
            "            Date       Open       High        Low      Close  Adj Close\n",
            "2058  2018-08-30  60.452000  60.919998  59.543999  60.630001  60.630001\n",
            "1116  2014-12-03  45.250000  45.944000  45.099998  45.860001  45.860001\n",
            "1131  2014-12-24  43.953999  44.500000  43.849998  44.452000  44.452000\n",
            "1476  2016-05-10  41.509998  41.894001  41.000000  41.737999  41.737999\n",
            "1380  2015-12-21  46.338001  47.166000  46.216000  46.512001  46.512001\n",
            "2058    36083500\n",
            "1116    26538500\n",
            "1131     6661000\n",
            "1476    20353000\n",
            "1380     9766000\n",
            "Name: Volume, dtype: int64\n"
          ]
        }
      ],
      "source": [
        "print(train_x.head())\n",
        "print(train_y.head())"
      ]
    },
    {
      "cell_type": "code",
      "execution_count": null,
      "metadata": {
        "id": "XHupQPCHgqBg"
      },
      "outputs": [],
      "source": []
    },
    {
      "cell_type": "markdown",
      "source": [
        "LINEARREGRESSION"
      ],
      "metadata": {
        "id": "FIheoVeTly8J"
      }
    },
    {
      "cell_type": "code",
      "execution_count": null,
      "metadata": {
        "id": "sJgRJGRFh-Ct"
      },
      "outputs": [],
      "source": [
        "import pandas as pd\n",
        "from sklearn.model_selection import train_test_split\n",
        "from sklearn.linear_model import LinearRegression\n",
        "from sklearn.metrics import mean_squared_error,r2_score\n",
        "\n",
        "# Convert 'Date' to ordinal *before* splitting the data\n",
        "df['Date'] = pd.to_datetime(df['Date']).apply(lambda date: date.toordinal())\n",
        "\n",
        "x = df.drop(['Volume'], axis=1)\n",
        "y = df['Volume']\n",
        "\n",
        "# Now split the data into training and testing sets\n",
        "train_x, test_x, train_y, test_y = train_test_split(x, y, test_size=0.2, random_state=2)\n",
        "\n",
        "#create a linear regression model\n",
        "model_lr = LinearRegression()\n",
        "\n",
        "#train the model on the training data\n",
        "model_lr.fit(train_x, train_y)\n",
        "\n",
        "# predictions on the training and test data\n",
        "y_pred_train_lr = model_lr.predict(train_x)\n",
        "y_pred_test_lr = model_lr.predict(test_x)\n",
        "\n",
        "#calculate metrics (optional)\n",
        "train_mse_lr = mean_squared_error(train_y, y_pred_train_lr)\n",
        "test_mse_lr = mean_squared_error(test_y, y_pred_test_lr)\n",
        "train_lr = r2_score(train_y,y_pred_train_lr)\n",
        "test_r2_lr = r2_score(test_y, y_pred_test_lr)"
      ]
    },
    {
      "cell_type": "code",
      "execution_count": null,
      "metadata": {
        "id": "WE60MBlJiCXp",
        "colab": {
          "base_uri": "https://localhost:8080/"
        },
        "outputId": "ffbaf057-6f58-4f26-cfad-09def535411d"
      },
      "outputs": [
        {
          "output_type": "stream",
          "name": "stdout",
          "text": [
            "480663422303253.56\n",
            "676368914928101.1\n",
            "0.33431731382186525\n",
            "0.34014687051725434\n"
          ]
        }
      ],
      "source": [
        "print(train_mse_lr)\n",
        "print(test_mse_lr)\n",
        "print(train_lr)\n",
        "print(test_r2_lr)"
      ]
    },
    {
      "cell_type": "markdown",
      "source": [
        "LOGISTICREGESSION"
      ],
      "metadata": {
        "id": "7CvnoLZlmadJ"
      }
    },
    {
      "cell_type": "code",
      "execution_count": null,
      "metadata": {
        "colab": {
          "base_uri": "https://localhost:8080/"
        },
        "id": "069Vt4ctiaQJ",
        "outputId": "93687997-0562-4f02-eff7-c0179681bc42"
      },
      "outputs": [
        {
          "output_type": "stream",
          "name": "stderr",
          "text": [
            "/usr/local/lib/python3.10/dist-packages/sklearn/linear_model/_logistic.py:465: ConvergenceWarning:\n",
            "\n",
            "lbfgs failed to converge (status=1):\n",
            "STOP: TOTAL NO. of ITERATIONS REACHED LIMIT.\n",
            "\n",
            "Increase the number of iterations (max_iter) or scale the data as shown in:\n",
            "    https://scikit-learn.org/stable/modules/preprocessing.html\n",
            "Please also refer to the documentation for alternative solver options:\n",
            "    https://scikit-learn.org/stable/modules/linear_model.html#logistic-regression\n",
            "\n"
          ]
        }
      ],
      "source": [
        "from sklearn.linear_model import LogisticRegression\n",
        "\n",
        "#call the model\n",
        "model_lr = LogisticRegression(max_iter = 1000)\n",
        "\n",
        "# fit the model\n",
        "\n",
        "model_lr.fit(train_x,train_y)\n",
        "\n",
        "#predict from the model\n",
        "\n",
        "y_pred_train=model_lr.predict(train_x)\n",
        "y_pred_test=model_lr.predict(test_x)"
      ]
    },
    {
      "cell_type": "code",
      "execution_count": null,
      "metadata": {
        "colab": {
          "base_uri": "https://localhost:8080/"
        },
        "id": "BdCUY0bCizWs",
        "outputId": "36c558d2-52d9-405c-f160-acda25852596"
      },
      "outputs": [
        {
          "output_type": "stream",
          "name": "stdout",
          "text": [
            "[  4938000 132588000  40815500  20947000   4938000  28361500  50665000\n",
            "  89007500  28361500 142202000  25367000  64265000  28361500 101211000\n",
            "  60735500 222126200   3645000  90871000   4938000   8572500  61584000\n",
            "   4938000  44141500   4938000  34717000  50665000  27665000  81908500\n",
            "  37520500  89410500  28414500   3645000   4938000  25897500  68145500\n",
            "  61041000 102126500  34472000   3645000  40552000 112377000  28361500\n",
            "  44438500  50665000  34472000  42484000  66598000  64457500  18140500\n",
            "   4938000  18140500  32854500  86844000  33870500  47660500  69037500\n",
            "  19464500   4938000  40758700  86844000  34717000  34472000  31919500\n",
            "  18140500  93799000   4612500   4938000  22816800 114476000  68145500\n",
            "  77972000 132588000  25367000  28361500  27665000   4938000   4938000\n",
            "  85607000  40841500   3645000   4938000  36364500 114476000  67828000\n",
            "  25367000  18140500  24013500   4938000  34489000  27665000   8572500\n",
            "  68145500   3645000  28361500   4938000  95139000  35289500  39704500\n",
            " 142202000  29335600  34717000 102849500  40225400  99292000  41297500\n",
            " 142202000  45115500  28361500  25367000  28361500  80017500  28361500\n",
            "  90535500 150977500 114476000 132735500  64457500  55000500  51405000\n",
            "  25259500  40815500   3645000  70683000  50657000  25367000  67083200\n",
            "  66766000  30904400  50665000  47660500  74697500  77972000   3645000\n",
            "  22865600 114476000   4938000  42377000  31919500  18140500   4938000\n",
            "  28361500   4938000  28361500  25492500   4938000  28361500  90535500\n",
            " 148604500   4938000   8572500  47813000   3645000   4938000  28361500\n",
            "  50665000   3645000  85484000  28361500 148604500  42484000 156845000\n",
            "   4938000  89410500  28361500 132588000  89410500  66634500  42484000\n",
            "   3645000  64457500  16371000  30550000  56270100  86844000 101211000\n",
            "   4938000  89017500  42693000   4938000  68145500   4938000 102631000\n",
            "  12328000  74509000   4938000  39023900  95139000 150977500   4938000\n",
            "  25259500  50665000  66766000   4938000   4938000  69360000  25367000\n",
            "  47135500  59843000  52052000  12328000  26565500  28805000  32164000\n",
            "  34717000  68145500  19158900  81556500   4938000  85484000   4938000\n",
            "  28749000 114476000  84353000  50665000  28361500  89007500  40815500\n",
            "  22560200  89410500  89841100 102631000  28361500  18924900 118534000\n",
            "   8572500  28361500   8572500  61697500  86844000 119973000   4938000\n",
            "  89410500  80017500 118534000  34472000 235325000   8572500  89841100\n",
            " 115465700  58045300  32854500  24739000  38062000  66598000   4938000\n",
            "  95139000   4938000  95074200   3645000   4938000  28361500  42377000\n",
            "  55364000 102631000  80017500   4938000   4612500   3645000   4938000\n",
            "   4938000  28749000  47813000   4938000  28361500   8572500  55364000\n",
            "   4938000  18634500  89410500 101211000  74509000 112377000   8572500\n",
            "  28361500   4938000   4612500   4938000  28361500  39960500   4938000\n",
            " 119973000   8572500  18634500  59843000  18140500  25367000  68250000\n",
            "   4938000   4938000  25367000  69037500   4612500  89410500 118374400\n",
            "   4938000   4938000  28361500   4938000 102849500  95139000  64457500\n",
            " 114476000  59990500  84353000  25367000 142202000  28361500 114476000\n",
            " 101211500  70605000  28361500   4938000  30372500   8572500  16584600\n",
            "  69037500  89007500  26565500  44141500   8572500   8572500 148604500\n",
            "  28361500  30372500   4612500  85484000   4938000  33852800   4938000\n",
            "  66766000  24379400  25492500  50665000  22194300  28361500   3645000\n",
            "  74509000 128920000  22865600  38062000   8572500  44098000  25367000\n",
            " 118931000 118534000  66766000   4938000  25259500  28361500   4938000\n",
            "  86844000  90535500 132588000   4938000  86903500  40758700  99292000\n",
            "  50665000   8572500 102631000  28361500 114476000   3645000  89410500\n",
            "  34717000 142202000   4938000  14120100  28361500  89410500  69037500\n",
            "  59990500  60735500  33420500  28361500  59422500  40321000 132588000\n",
            "  60735500   3645000   4938000  34472000  28361500  32854500   4938000\n",
            "  18924900   4938000  56048700 102849500   4938000 118931000  50665000\n",
            " 142202000 141427500   8572500 148604500   3645000  71574000  19855100\n",
            "   4938000  28361500   4938000   4938000   4938000  38971500  59422500\n",
            "  68145500   4938000  95074200 142202000  32164000  30904400  66766000\n",
            "  36278000  18623000 222126200  61188300   4938000  59990500 114476000\n",
            "  73763500 150977500   8572500  47813000   4938000   4938000 148604500\n",
            "  59990500  32164000   8572500 112377000 121386000  66766000   4938000\n",
            "   4938000  34489000 132588000   4612500  34472000  29381500  25101500\n",
            "  70805500  23475000  40841500  13214300  21706000  44546000   4938000\n",
            "  28361500 148604500  23475000   8572500 128920000  84592500  99292000\n",
            "  42100500   4938000   4938000   4938000  25367000  50665000  73763500\n",
            "  74509000  31919500 100318000   4938000   4938000 118374400  32854500\n",
            "  75987500 114476000   4938000  64457500   3645000  86903500  39747500\n",
            "  34955800  34472000   3645000  95074200  89396500   8572500   4938000\n",
            " 142202000  36976500 100406000  66766000  70683000 142202000  23768300\n",
            "  74509000 112377000  90871000 132588000   4938000 112377000  68145500\n",
            "  50665000   4938000  89410500   4938000   4938000  21701000   4938000\n",
            "   8572500   4938000  39960500  31826500  28361500  64457500  68250000\n",
            "   4938000  89410500  99292000   3645000   8572500  23979000 150977500\n",
            "  93799000  25101500  20947000  89410500  50665000   4938000 148604500\n",
            "  25367000 148604500   4938000  77972000   4938000  30550000  70683000\n",
            "   4938000  28361500   4938000   4938000  59422500  19158900  68145500\n",
            "   8572500  50665000  80017500  53169500  85317500  44991000   3645000\n",
            "  89410500  96561100   8572500   4938000  29381500  86452500  28749000\n",
            "  27799500  20108000   4938000   4938000  56251500  99292000   4938000\n",
            "  42484000  65322000  12328000   3645000  60735500   3645000  39704500\n",
            "   4938000  29381500  40815500  12328000  28361500   4938000  25367000\n",
            "  32854500  12328000  52052000  86844000  66598000  25367000  44141500\n",
            "  62932000  99483500  89410500  34717000   8572500  25996500  90871000\n",
            "  86903500  28361500  28749000  86452500]\n"
          ]
        }
      ],
      "source": [
        "print(y_pred_test)"
      ]
    },
    {
      "cell_type": "code",
      "source": [
        "from sklearn.metrics import accuracy_score,confusion_matrix\n",
        "accuracy_train = accuracy_score(train_y,y_pred_train)\n",
        "print(\"accuracy of the logistic regression model on your train\",accuracy_train)\n",
        "accuracy_test=accuracy_score(test_y,y_pred_test)\n",
        "print(\"accuracy of the logistic regression model on your test\",accuracy_test)\n"
      ],
      "metadata": {
        "colab": {
          "base_uri": "https://localhost:8080/"
        },
        "id": "rIFhA-5VAxgx",
        "outputId": "8d3d90f7-d43d-4bb8-a5f2-a43238e89aa0"
      },
      "execution_count": null,
      "outputs": [
        {
          "output_type": "stream",
          "name": "stdout",
          "text": [
            "accuracy of the logistic regression model on your train 0.04187817258883249\n",
            "accuracy of the logistic regression model on your test 0.0\n"
          ]
        }
      ]
    },
    {
      "cell_type": "code",
      "source": [
        "confusion_matrix(test_y,y_pred_test)"
      ],
      "metadata": {
        "colab": {
          "base_uri": "https://localhost:8080/"
        },
        "id": "OIxnCMIoBNSI",
        "outputId": "86e2b962-ddbd-4b0c-8009-a2233693e231"
      },
      "execution_count": null,
      "outputs": [
        {
          "output_type": "execute_result",
          "data": {
            "text/plain": [
              "array([[0, 0, 0, ..., 0, 0, 0],\n",
              "       [0, 0, 0, ..., 0, 0, 0],\n",
              "       [0, 0, 0, ..., 0, 0, 0],\n",
              "       ...,\n",
              "       [0, 0, 0, ..., 0, 0, 0],\n",
              "       [0, 0, 0, ..., 0, 0, 0],\n",
              "       [0, 0, 0, ..., 0, 0, 0]])"
            ]
          },
          "metadata": {},
          "execution_count": 18
        }
      ]
    },
    {
      "source": [
        "from sklearn.metrics import confusion_matrix, multilabel_confusion_matrix\n",
        "\n",
        "# Calculate confusion matrix\n",
        "conf_matrix = confusion_matrix(test_y, y_pred_test)\n",
        "\n",
        "# Get the number of unique classes\n",
        "num_classes = conf_matrix.shape[0]\n",
        "\n",
        "# If binary classification (2 classes)\n",
        "if num_classes == 2:\n",
        "    tn, fp, fn, tp = conf_matrix.ravel()\n",
        "    print(\"TP:\", tp)\n",
        "    print(\"FN:\", fn)\n",
        "    print(\"FP:\", fp)\n",
        "    print(\"TN:\", tn)\n",
        "# If multi-class classification (more than 2 classes)\n",
        "else:\n",
        "    # Print the entire confusion matrix or handle it differently\n",
        "    print(\"Confusion Matrix:\")\n",
        "    print(conf_matrix)\n"
      ],
      "cell_type": "code",
      "metadata": {
        "colab": {
          "base_uri": "https://localhost:8080/"
        },
        "id": "vdlfNfXCRGC9",
        "outputId": "41531b61-36ee-42f3-fa34-b006d0be4739"
      },
      "execution_count": null,
      "outputs": [
        {
          "output_type": "stream",
          "name": "stdout",
          "text": [
            "Confusion Matrix:\n",
            "[[0 0 0 ... 0 0 0]\n",
            " [0 0 0 ... 0 0 0]\n",
            " [0 0 0 ... 0 0 0]\n",
            " ...\n",
            " [0 0 0 ... 0 0 0]\n",
            " [0 0 0 ... 0 0 0]\n",
            " [0 0 0 ... 0 0 0]]\n"
          ]
        }
      ]
    },
    {
      "source": [
        "# Calculate confusion matrix\n",
        "conf_matrix = confusion_matrix(train_y, y_pred_train)\n",
        "\n",
        "# Get the number of unique classes\n",
        "num_classes = conf_matrix.shape[0]\n",
        "\n",
        "# If binary classification (2 classes)\n",
        "if num_classes == 2:\n",
        "    tn, fp, fn, tp = conf_matrix.ravel()\n",
        "    print(\"TP:\", tp)\n",
        "    print(\"FN:\", fn)\n",
        "    print(\"FP:\", fp)\n",
        "    print(\"TN:\", tn)\n",
        "# If multi-class classification (more than 2 classes)\n",
        "else:\n",
        "    # Print the entire confusion matrix or handle it differently\n",
        "    print(\"Confusion Matrix:\")\n",
        "    print(conf_matrix)"
      ],
      "cell_type": "code",
      "metadata": {
        "colab": {
          "base_uri": "https://localhost:8080/"
        },
        "id": "7mOf3NnTRobn",
        "outputId": "701711fb-92be-4160-e9ee-c932e968a77b"
      },
      "execution_count": null,
      "outputs": [
        {
          "output_type": "stream",
          "name": "stdout",
          "text": [
            "Confusion Matrix:\n",
            "[[0 0 0 ... 0 0 0]\n",
            " [0 0 0 ... 0 0 0]\n",
            " [0 0 0 ... 0 0 0]\n",
            " ...\n",
            " [0 0 0 ... 0 0 0]\n",
            " [0 0 0 ... 0 1 0]\n",
            " [0 0 0 ... 0 0 0]]\n"
          ]
        }
      ]
    },
    {
      "cell_type": "code",
      "source": [
        "confusion_matrix(test_y,y_pred_test)\n",
        "confusion_matrix(train_y,y_pred_train)"
      ],
      "metadata": {
        "colab": {
          "base_uri": "https://localhost:8080/"
        },
        "id": "fXb1A_f3RsvJ",
        "outputId": "b452f2a6-7d17-4874-d98d-2544fba46741"
      },
      "execution_count": null,
      "outputs": [
        {
          "output_type": "execute_result",
          "data": {
            "text/plain": [
              "array([[0, 0, 0, ..., 0, 0, 0],\n",
              "       [0, 0, 0, ..., 0, 0, 0],\n",
              "       [0, 0, 0, ..., 0, 0, 0],\n",
              "       ...,\n",
              "       [0, 0, 0, ..., 0, 0, 0],\n",
              "       [0, 0, 0, ..., 0, 1, 0],\n",
              "       [0, 0, 0, ..., 0, 0, 0]])"
            ]
          },
          "metadata": {},
          "execution_count": 36
        }
      ]
    },
    {
      "cell_type": "code",
      "source": [
        "from sklearn.metrics import accuracy_score,confusion_matrix,recall_score,precision_score,f1_score"
      ],
      "metadata": {
        "id": "f8VCUWVgR0We"
      },
      "execution_count": null,
      "outputs": []
    },
    {
      "source": [
        "from sklearn.metrics import accuracy_score, confusion_matrix, recall_score, precision_score, f1_score\n",
        "\n",
        "# Assuming you have test_y (true labels) and y_pred_test (predicted labels)\n",
        "conf_matrix = confusion_matrix(test_y, y_pred_test)\n",
        "\n",
        "# Check if binary classification\n",
        "if conf_matrix.shape[0] == 2:\n",
        "    tn, fp, fn, tp = conf_matrix.ravel()  # Unpack values if binary\n",
        "    Recall = tp / (tp + fn)\n",
        "    print(\"Recall of logistic regression is :\", Recall)\n",
        "    Precision = tp / (tp + fp)\n",
        "    print(\"Precision of logistic regression is :\", Precision)\n",
        "    f1_score = (2 * Recall * Precision) / (Recall + Precision)  # Correct F1-score formula\n",
        "    print(\"F1_score of logistic regression is :\", f1_score)\n",
        "else:\n",
        "    # Handle multi-class case (e.g., print a message)\n",
        "    print(\"Multi-class classification. Metrics calculation skipped.\")"
      ],
      "cell_type": "code",
      "metadata": {
        "colab": {
          "base_uri": "https://localhost:8080/"
        },
        "id": "HJbxEkE5SRyf",
        "outputId": "cf362c70-0fd7-4b28-b735-27b5932e48f9"
      },
      "execution_count": null,
      "outputs": [
        {
          "output_type": "stream",
          "name": "stdout",
          "text": [
            "Multi-class classification. Metrics calculation skipped.\n"
          ]
        }
      ]
    },
    {
      "cell_type": "markdown",
      "source": [
        "DECISION TREE"
      ],
      "metadata": {
        "id": "r_FT8OpENUz5"
      }
    },
    {
      "cell_type": "code",
      "source": [
        "import pandas as pd\n",
        "from sklearn.tree import DecisionTreeClassifier"
      ],
      "metadata": {
        "id": "qbdwnikdM-6s"
      },
      "execution_count": null,
      "outputs": []
    },
    {
      "cell_type": "code",
      "source": [
        "#call the model\n",
        "dt = DecisionTreeClassifier(criterion='entropy')\n",
        "#fit the model\n",
        "dt.fit(train_x,train_y)\n",
        "#predict from the model\n",
        "y_pred_train_dt=dt.predict(train_x)\n",
        "y_pred_test_dt=dt.predict(test_x)"
      ],
      "metadata": {
        "id": "z_ftL1PBM_9I"
      },
      "execution_count": null,
      "outputs": []
    },
    {
      "cell_type": "code",
      "source": [
        "accuracy_train = accuracy_score(train_y,y_pred_train)\n",
        "print(\"accuracy of the Decision tree model on your train dataset is:\",accuracy_train)\n",
        "accuracy_test=accuracy_score(test_y,y_pred_test)\n",
        "print(\"accuracy of the Decision tree model on your test dataset is:\",accuracy_test)"
      ],
      "metadata": {
        "colab": {
          "base_uri": "https://localhost:8080/"
        },
        "id": "mgG5sYiMNGKt",
        "outputId": "53e5aa1c-4941-494d-a260-2d5a52f02ad2"
      },
      "execution_count": null,
      "outputs": [
        {
          "output_type": "stream",
          "name": "stdout",
          "text": [
            "accuracy of the Decision tree model on your train dataset is: 0.04187817258883249\n",
            "accuracy of the Decision tree model on your test dataset is: 0.0\n"
          ]
        }
      ]
    },
    {
      "cell_type": "markdown",
      "source": [
        "KNN"
      ],
      "metadata": {
        "id": "N7Hm-VvkNavd"
      }
    },
    {
      "cell_type": "code",
      "source": [
        "from sklearn.neighbors import KNeighborsClassifier\n",
        "#create aKNN model\n",
        "model_knn = KNeighborsClassifier(n_neighbors=5) #\n",
        "# Train the model on the training and data\n",
        "model_knn.fit(train_x,train_y)\n",
        "#predictions on the training and test data\n",
        "y_pred_train_knn = model_knn.predict(train_x)\n",
        "y_pred_test_knn = model_knn.predict(test_x)"
      ],
      "metadata": {
        "id": "CwkN6EuNNN-F"
      },
      "execution_count": null,
      "outputs": []
    },
    {
      "cell_type": "code",
      "source": [
        "print(y_pred_train_knn)\n",
        "print(y_pred_test_knn)"
      ],
      "metadata": {
        "colab": {
          "base_uri": "https://localhost:8080/"
        },
        "id": "npMuyTGMNk0C",
        "outputId": "fa4a91af-af58-42a1-8718-dbf315bef6a1"
      },
      "execution_count": null,
      "outputs": [
        {
          "output_type": "stream",
          "name": "stdout",
          "text": [
            "[26875500 19278000  6661000 ... 17172000 24739000 72279300]\n",
            "[ 3372500 32854500 23146000 11914500  3772500 34345000 17342500 66766000\n",
            " 36970000 21428500 23732200 14604900 55142000 21110000 11171000 33583800\n",
            "  6904500 10173000  4475500  2201000 70683000  6725000 25101500  2720000\n",
            " 18640000 22527500 10933500 58487500 35328500 28126000 43127700  2779500\n",
            "  2894500 13905000 20858500 43129000 46650000 19549500  4735000 17583500\n",
            " 50665000 33525000 76110000 17343000 15157700 10173000 33870500 17771500\n",
            " 30111900  3098500 29401300 25101500 33655000 12095500 33870500 20765000\n",
            " 19464500  3750000 22865600 20926000 14597000 18343500 18977000 29401300\n",
            " 28816000  2070500  3372500 18718000 25494000 15247500 68040500 41918500\n",
            " 27848900 51003500 14597000  2616000  4478500 24739000 13568000  2030000\n",
            "  2387000 20626000 23458500 36546500  9800600 40103500 10442000  4186000\n",
            " 10933500 11754000  1753000 30550000  7179500 51336500  4931500 19491000\n",
            " 23602100 20128500 12328000 28271800 33557000 31812000 19888100 18886000\n",
            " 39094000 21428500 20661000 28743000 27848900 33376500  9387500 22495000\n",
            " 33870500 35517000 23458500 20746500 16739000 16043000 16511500 12225000\n",
            " 18449500  2030000 11830500 12201500  9800600 20424000 22458500 13968800\n",
            " 22898000 23108500 36278000 59990500  3193000 15487100 25195500  3316500\n",
            " 15555500 29399000 24036900  4208500 14797000  3981000 36970000 18791000\n",
            "  4182500 29451500 24739500 19089500   705000  2858000 13568000  4768500\n",
            "  3176000 26618000 19524500  3750000 17316500 32091000 19628500 12061500\n",
            " 99292000   805500 24420500 44280500 23128500 38121500 46272500 12061500\n",
            "  2486500 17137000 15487100  8080000 33852800 29242500 18249500  4475500\n",
            " 20926000 13493500  2894500 30550000  7233500 27476000  8907500 34932000\n",
            "   805500 13214300 12226500 31701500  7641000 18249500 23127000 25736500\n",
            "   814000  3140000 19628500  9800600  8295500 59843000 25897500 15691000\n",
            " 10743500 11914500 17362000  9853000 15247500 19158900 58588000  2547500\n",
            "  7775000  3618000 11487500 25070000 29678500 19524500 27969000 47660500\n",
            " 43728000 19464500 23127000 28925700 59843000 27006000 18634500 12139000\n",
            "  4554000 27969000  4834000 15831500 17069000 23821500  5378000 25811000\n",
            " 25868500  6661000 15157700 63314500  4840500 35672400 70805500 15487100\n",
            "  8080000 43129000 12595000 29925500   705000 11318000  2460500 61026500\n",
            "  1198000  5399500 27006000 14913500 10164000 15386000 15386000  7233500\n",
            "  4555500  5242500  4634500  2917500 15416500 19547500  3140000 36970000\n",
            "  4612500 10164000  3272000 14841900 20762500 27476000 17069000 59990500\n",
            "  6439000 61018500  2699000  3490000 20253000 38321500 44281000   705000\n",
            " 37414500  3193000 21901900 12194500 16584600 23732200 47660500  1442000\n",
            "  4274500 12777300 11830500  4109000 21272000 72279300  2894500  2134500\n",
            " 16958000  2541000 31812000 30682500 20434000 32462000 30346000 18747500\n",
            " 14632800 21272000 27969000 18524000 70805500 27106000 59843000  3372500\n",
            " 15691000  4840500 16205300 24215500 47660500 15555500 25101500  7733000\n",
            "  1753000 24519500 35903000  9923500  2126500 19559500  2253000 33795200\n",
            "  2058500 28126000 16909700 13758000 15178500 19728000 38848000  1753000\n",
            " 33922000 66060000 23469200  9923500  3322000 35328500 22272800  8080000\n",
            " 15555500 32462000  4766000 16098000 34093500  3545000 34932000 24739500\n",
            " 17420000  2845000 32229000 23924300 22779500 28258000  4110000 24215500\n",
            " 16338000 12328000  3501500 21758000 14597000 21428500  7179500 14120100\n",
            " 37977500 22779500 20746500 39835500  6661000 15416500 39548000 16957000\n",
            " 18462500 17702500 34536500  2486500  2547500 20066500 29582000 18747500\n",
            "  6904500 18634500  3140000 21628800 31812000  7501500  9538000 23152500\n",
            " 20762500 28258000  4834000 47323000  2030000 36278000 17357700  3539000\n",
            " 35903000  3545000  2957000  2336000 13568000 15555500 16098000  3803000\n",
            " 53294500 24508000 10164000 18694900 27381000 73733000 20128500 15487100\n",
            " 43127700  2917500 30346000 18524000 20883500 31701500  3371500 15620500\n",
            "  2253000  2239500 25450500 27951000 14913500  2201000 59990500 63314500\n",
            " 16098000  5824500  6544500 19339500 30550000  2955500 15157700  8572500\n",
            " 16511500 24739000 13150000 27476000 27043100 43127700  9747000  7233500\n",
            " 44280500 21021500 13714000  4834000 66060000 71574000 27799500  8080000\n",
            "   805500  3150500  3068500 23732200 23769000 16623000 16098000 31181500\n",
            " 17357700  3068500  2917500 35672400 31701500 34446500 34932000  6110500\n",
            " 34536500  7179500 32229000 36546500 23602100 15157700  3785000 53294500\n",
            " 42095800  3234000  3399000 28126000 14028500 28925700 33067500 18973000\n",
            " 27534000 17957100 34932000 68145500 12061500 34932000  3618000 50665000\n",
            " 30346000 21758000  1804000 27799500  2888500  2387000 14126000  3218500\n",
            "  4124500  2917500 28749000 39747500 23475000 17771500 47660500  3176000\n",
            " 25335000 23127000  2779500  2201000 25259500 20068000 31000000 17362000\n",
            " 10442000 19753500 23128000  3630000 22173000 17957100 18640000  2699000\n",
            " 63280000  3363000 31000000 20765000  4717500 44280500  3268000  3630000\n",
            " 14126000 19158900 18524000  4612500 23127000 17947000 21823000 66060000\n",
            "  6481500  2052000 31511500 61026500  4840500  1831000  8297500 58487500\n",
            " 17362000 10598500 18718000 13400500  2813000 31416500 19753500  5378000\n",
            " 19665000 59843000 18351500  4735000 10164000  1198000 16777500  2239500\n",
            " 18300000 19327000  9906000 35540500  2253000 12777300  8080000 17936000\n",
            "  9067500 17069000 29925500 13923400 17936000 23108500 17583500 24402000\n",
            " 19327000  3030000 22272800 12061500 29242500 32823500 15555500 55616000]\n"
          ]
        }
      ]
    },
    {
      "cell_type": "code",
      "source": [
        "from sklearn.metrics import accuracy_score, precision_score, recall_score, f1_score\n",
        " # Import the f1_score function\n",
        "accuracy_test = accuracy_score(test_y,y_pred_test_knn)\n",
        "print(\"Accuracy of the KNN model on your test dataset is:\",accuracy_test)\n",
        "precision_test = precision_score(test_y,y_pred_test_knn,average='weighted')\n",
        "print(\"The precision for KNN is:\",precision_test)\n",
        "recall_test = recall_score(test_y,y_pred_test_knn, average='weighted')\n",
        "print(\"The recall for KNN is :\",recall_test)\n",
        "f1score_test = f1_score(test_y,y_pred_test_knn, average='weighted')\n",
        "print(\"the f1-score for KNN is:\",f1score_test)"
      ],
      "metadata": {
        "colab": {
          "base_uri": "https://localhost:8080/"
        },
        "id": "AArrLvfjNpcb",
        "outputId": "d21e444b-3132-4747-b4d3-ffc91f1f91c5"
      },
      "execution_count": null,
      "outputs": [
        {
          "output_type": "stream",
          "name": "stdout",
          "text": [
            "Accuracy of the KNN model on your test dataset is: 0.0\n",
            "The precision for KNN is: 0.0\n",
            "The recall for KNN is : 0.0\n",
            "the f1-score for KNN is: 0.0\n"
          ]
        },
        {
          "output_type": "stream",
          "name": "stderr",
          "text": [
            "/usr/local/lib/python3.10/dist-packages/sklearn/metrics/_classification.py:1565: UndefinedMetricWarning:\n",
            "\n",
            "Precision is ill-defined and being set to 0.0 in labels with no predicted samples. Use `zero_division` parameter to control this behavior.\n",
            "\n",
            "/usr/local/lib/python3.10/dist-packages/sklearn/metrics/_classification.py:1565: UndefinedMetricWarning:\n",
            "\n",
            "Recall is ill-defined and being set to 0.0 in labels with no true samples. Use `zero_division` parameter to control this behavior.\n",
            "\n"
          ]
        }
      ]
    },
    {
      "cell_type": "code",
      "source": [
        "accuracy_train=accuracy_score(train_y,y_pred_train_knn)\n",
        "print(\"accuracy of the KNN model on your train dataset is:\",accuracy_train)"
      ],
      "metadata": {
        "colab": {
          "base_uri": "https://localhost:8080/"
        },
        "id": "KoxWwzsgNzKW",
        "outputId": "5de874f3-9d25-4e0c-f9fe-197f5455e924"
      },
      "execution_count": null,
      "outputs": [
        {
          "output_type": "stream",
          "name": "stdout",
          "text": [
            "accuracy of the KNN model on your train dataset is: 0.16962774957698815\n"
          ]
        }
      ]
    },
    {
      "cell_type": "code",
      "source": [
        "# k means\n",
        "from sklearn.cluster import KMeans\n",
        "import matplotlib.pyplot as plt\n",
        "\n",
        "#create KMeans model\n",
        "k=3 #Number of clusters\n",
        "model_kmeans = KMeans(n_clusters=k, random_state=42)\n",
        "#select the columns for clustering\n",
        "columns_for_clustering = ['Adj Close','Low']\n",
        "df_for_clustering = df[columns_for_clustering]\n",
        "\n",
        "#fit the model to the data\n",
        "model_kmeans.fit(df_for_clustering)\n",
        "\n",
        "#get cluster labels\n",
        "cluster_labels = model_kmeans.labels_\n",
        "\n",
        "#get cluster centers\n",
        "cluster_centers = model_kmeans.cluster_centers_\n",
        "\n",
        "#plot the clusters\n",
        "plt.figure(figsize=(8,6))\n",
        "plt.scatter(df_for_clustering['Adj Close'],\n",
        "            df_for_clustering['Low'],\n",
        "            c=cluster_labels,\n",
        "            cmap='rainbow',\n",
        "            alpha=0.7)\n",
        "plt.scatter(cluster_centers[:,0],\n",
        "            cluster_centers[:,1],c='red',\n",
        "            marker='x',s=100, label='Centroids')\n",
        "plt.xlabel('Adj Close')\n",
        "plt.ylabel('Low')\n",
        "plt.title('K-Means Clustering')\n",
        "plt.legend()\n",
        "plt.show()\n",
        "\n",
        "\n",
        "\n",
        "\n",
        "plt.ylabel('Low\t')\n",
        "plt.title('K-Means Clustering')\n",
        "plt.legend()\n",
        "plt.show()\n",
        "\n",
        "\n"
      ],
      "metadata": {
        "colab": {
          "base_uri": "https://localhost:8080/",
          "height": 1000
        },
        "id": "rVYdP0IaOown",
        "outputId": "8e269737-5e44-4981-edd3-81e99ad99531"
      },
      "execution_count": null,
      "outputs": [
        {
          "output_type": "display_data",
          "data": {
            "text/plain": [
              "<Figure size 800x600 with 1 Axes>"
            ],
            "image/png": "[encoded data removed]"
          },
          "metadata": {}
        },
        {
          "output_type": "stream",
          "name": "stderr",
          "text": [
            "WARNING:matplotlib.legend:No artists with labels found to put in legend.  Note that artists whose label start with an underscore are ignored when legend() is called with no argument.\n",
            "/usr/local/lib/python3.10/dist-packages/IPython/core/pylabtools.py:151: UserWarning:\n",
            "\n",
            "Glyph 9 (\t) missing from current font.\n",
            "\n"
          ]
        },
        {
          "output_type": "display_data",
          "data": {
            "text/plain": [
              "<Figure size 640x480 with 1 Axes>"
            ],
            "image/png": "[encoded data removed]"
          },
          "metadata": {}
        }
      ]
    },
    {
      "cell_type": "code",
      "source": [
        "#k means performance metrics\n",
        "from sklearn.cluster import KMeans\n",
        "from sklearn.metrics import silhouette_score,davies_bouldin_score, calinski_harabasz_score,homogeneity_score, completeness_score,v_measure_score\n",
        "import matplotlib.pyplot as plt\n",
        "\n",
        "# Assuming you have x (features) and y (labels)\n",
        "\n",
        "# Create KMeans model\n",
        "k = 2 # Number of clusters\n",
        "model_kmeans = KMeans(n_clusters=k, random_state=42)\n",
        "\n",
        "# Fit the model to the data\n",
        "model_kmeans.fit(x)\n",
        "\n",
        "# Get cluster labels\n",
        "cluster_labels = model_kmeans.labels_\n",
        "\n",
        "# Inertia\n",
        "inertia = model_kmeans.inertia_\n",
        "print(\"Inertia:\",inertia)\n",
        "\n",
        "# Silhouette score\n",
        "silhouette = silhouette_score(x, cluster_labels)\n",
        "print(\"Silhouette Score:\",silhouette)\n",
        "\n",
        "# Davies-Bouldin Index\n",
        "davies_bouldin = davies_bouldin_score(x, cluster_labels)\n",
        "print(\"Davies-Bouldin Index:\",davies_bouldin)\n",
        "\n",
        "# Calinski-Harabasz Index\n",
        "calinski_harabasz = calinski_harabasz_score(x, cluster_labels)\n",
        "print(\"Calinski-Harabasz Index:\",calinski_harabasz)\n",
        "\n",
        "# Homogenity, completeness, and V-measure\n",
        "homogeneity = homogeneity_score(y, cluster_labels)\n",
        "completeness = completeness_score(y, cluster_labels)\n",
        "v_measure = v_measure_score(y, cluster_labels)\n",
        "print(\"Homogenity:\",homogeneity)\n",
        "print(\"Completeness:\",completeness)\n",
        "print(\"V-measure:\",v_measure)\n",
        "\n",
        "# Assuming 'df' is your DataFrame and it's already loaded\n",
        "# If not, you need to load your DataFrame first\n",
        "\n",
        "# Select the columns for clustering\n",
        "columns_for_clustering = ['Adj Close', 'Low']\n",
        "df_for_clustering = df[columns_for_clustering]\n",
        "\n",
        "# Re-fit the model to the data for plotting purposes\n",
        "model_kmeans.fit(df_for_clustering)  # This line is crucial to ensure cluster_centers are consistent with df_for_clustering\n",
        "cluster_centers = model_kmeans.cluster_centers_\n",
        "\n",
        "\n",
        "# Plot the clusters\n",
        "plt.figure(figsize=(8, 6))\n",
        "plt.scatter(df_for_clustering['Adj Close'], df_for_clustering['Low'], c=cluster_labels, cmap='rainbow', alpha=0.7)\n",
        "plt.scatter(cluster_centers[:, 0], cluster_centers[:, 1], c='red', marker='x', s=100, label='Centroids')\n",
        "plt.xlabel('Adj Close')\n",
        "plt.ylabel('Low')\n",
        "plt.title('K-Means Clustering')\n",
        "plt.legend()\n",
        "plt.show()\n",
        "\n",
        "\n"
      ],
      "metadata": {
        "colab": {
          "base_uri": "https://localhost:8080/",
          "height": 639
        },
        "id": "8bnkR2v-Ov9j",
        "outputId": "fae1050c-446a-4fa3-b6d4-5138913d9fcd"
      },
      "execution_count": null,
      "outputs": [
        {
          "output_type": "stream",
          "name": "stdout",
          "text": [
            "Inertia: 1855087218.7341905\n",
            "Silhouette Score: 0.5733206640347678\n",
            "Davies-Bouldin Index: 0.6286883363749481\n",
            "Calinski-Harabasz Index: 5736.881392532853\n",
            "Homogenity: 0.08615117644813863\n",
            "Completeness: 0.9938957735665412\n",
            "V-measure: 0.1585584592566583\n"
          ]
        },
        {
          "output_type": "display_data",
          "data": {
            "text/plain": [
              "<Figure size 800x600 with 1 Axes>"
            ],
            "image/png": "[encoded data removed]"
          },
          "metadata": {}
        }
      ]
    },
    {
      "cell_type": "markdown",
      "source": [
        "MODEL PREDICTION"
      ],
      "metadata": {
        "id": "ut1mL5NaUsyV"
      }
    },
    {
      "cell_type": "code",
      "source": [
        "x = df[['Date', 'Open', 'High', 'Low', 'Close', 'Adj Close']]\n",
        "y = df['Volume']"
      ],
      "metadata": {
        "id": "Hg_YH90cQLe8"
      },
      "execution_count": null,
      "outputs": []
    },
    {
      "cell_type": "code",
      "source": [
        "user_input=[[1,1,1,0,1,1]]\n",
        "model_lr.predict(user_input)"
      ],
      "metadata": {
        "colab": {
          "base_uri": "https://localhost:8080/"
        },
        "id": "vn9CCeqEUAIg",
        "outputId": "1b64c12a-09f3-46fc-8cdf-bc7a226b6d0a"
      },
      "execution_count": null,
      "outputs": [
        {
          "output_type": "stream",
          "name": "stderr",
          "text": [
            "/usr/local/lib/python3.10/dist-packages/sklearn/utils/validation.py:2739: UserWarning:\n",
            "\n",
            "X does not have valid feature names, but LogisticRegression was fitted with feature names\n",
            "\n"
          ]
        },
        {
          "output_type": "execute_result",
          "data": {
            "text/plain": [
              "array([25397400])"
            ]
          },
          "metadata": {},
          "execution_count": 42
        }
      ]
    },
    {
      "cell_type": "code",
      "source": [
        "user_input=[[1,1,1,0,1,1]]\n",
        "dt.predict(user_input)"
      ],
      "metadata": {
        "colab": {
          "base_uri": "https://localhost:8080/"
        },
        "id": "eJ0FkvUpUdTP",
        "outputId": "1da249bd-da71-41f0-bcdc-9ab6fa9c6b57"
      },
      "execution_count": null,
      "outputs": [
        {
          "output_type": "stream",
          "name": "stderr",
          "text": [
            "/usr/local/lib/python3.10/dist-packages/sklearn/utils/validation.py:2739: UserWarning:\n",
            "\n",
            "X does not have valid feature names, but DecisionTreeClassifier was fitted with feature names\n",
            "\n"
          ]
        },
        {
          "output_type": "execute_result",
          "data": {
            "text/plain": [
              "array([34608500])"
            ]
          },
          "metadata": {},
          "execution_count": 43
        }
      ]
    },
    {
      "cell_type": "code",
      "source": [],
      "metadata": {
        "id": "CWTJv0OTUrAZ"
      },
      "execution_count": null,
      "outputs": []
    }
  ],
  "metadata": {
    "colab": {
      "provenance": [],
      "authorship_tag": "ABX9TyMps6VvLSnQrTaMCsfVkl4y",
      "include_colab_link": true
    },
    "kernelspec": {
      "display_name": "Python 3",
      "name": "python3"
    },
    "language_info": {
      "name": "python"
    }
  },
  "nbformat": 4,
  "nbformat_minor": 0
}